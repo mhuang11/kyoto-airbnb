{
 "cells": [
  {
   "cell_type": "markdown",
   "id": "11c7d89a-9d3c-4cbc-8fbb-f53d0018a2e2",
   "metadata": {},
   "source": [
    "# Part 1: Get All Listings"
   ]
  },
  {
   "cell_type": "markdown",
   "id": "7f0e1d8e-b57d-4758-940b-89ab136f30a9",
   "metadata": {},
   "source": [
    "All packages planned to be used should be imported:"
   ]
  },
  {
   "cell_type": "code",
   "execution_count": 1,
   "id": "e8cea788-4cd0-42db-a57b-2294d227bee8",
   "metadata": {},
   "outputs": [],
   "source": [
    "# Part 1: Get All Listings\n",
    "import requests\n",
    "from bs4 import BeautifulSoup\n",
    "\n",
    "# Part 2: Get All Features\n",
    "import time \n",
    "from fake_useragent import UserAgent\n",
    "from selenium import webdriver\n",
    "from selenium.webdriver.chrome.options import Options\n",
    "from selenium.webdriver.chrome.service import Service\n",
    "from selenium.webdriver.support.ui import WebDriverWait\n",
    "from selenium.webdriver.common.by import By\n",
    "from selenium.webdriver.support import expected_conditions as EC"
   ]
  },
  {
   "cell_type": "markdown",
   "id": "30387f6e-e429-4063-b5b3-6a30cd1925ce",
   "metadata": {},
   "source": [
    "### Functions"
   ]
  },
  {
   "cell_type": "markdown",
   "id": "f13dd487-8b5c-46f8-9507-a221295d41e1",
   "metadata": {},
   "source": [
    "Function for obtaining HTML content of a page:"
   ]
  },
  {
   "cell_type": "code",
   "execution_count": 2,
   "id": "00d808c3-67a4-4288-a0f8-42541cc4a82d",
   "metadata": {},
   "outputs": [],
   "source": [
    "def scrape_page(page_url):\n",
    "    proxy = {\"http\" : \"http://138.197.148.215:80\"}\n",
    "    headers = {'User-agent':'Mozilla/5.0 (X11; Linux i686; rv:100.0) Gecko/20100101 Firefox/100.0.'}\n",
    "    r = requests.get(page_url, proxies = proxy, headers=headers)\n",
    "    soup = BeautifulSoup(r.text, features=\"html.parser\")\n",
    "    return soup"
   ]
  },
  {
   "cell_type": "markdown",
   "id": "159157fb-1943-4922-909b-15c4c5a4fa8b",
   "metadata": {},
   "source": [
    "Function for obtaining the URLs of each search page (total 15)"
   ]
  },
  {
   "cell_type": "code",
   "execution_count": 3,
   "id": "83f33493-b6d4-4012-bdaf-8ef125a0c1c9",
   "metadata": {},
   "outputs": [],
   "source": [
    "# url = the SECOND page of the search on AirBnB\n",
    "def get_page_urls(url):\n",
    "    page_urls = []\n",
    "    num = 0\n",
    "    for i in range(15):\n",
    "        split_url = url.split(\"items_offset=\")\n",
    "        new_url = [split_url[0], split_url[1].split(\"20&\")[1]]\n",
    "        link = new_url[0]+\"items_offset=\"+str(num)+\"&\"+new_url[1]\n",
    "        page_urls.append(link)\n",
    "        num +=20\n",
    "    return page_urls"
   ]
  },
  {
   "cell_type": "markdown",
   "id": "cffe088d-f4ad-4ee5-9ba9-913a297acfce",
   "metadata": {},
   "source": [
    "Function that takes your specific parameters and scrapes the page for it:"
   ]
  },
  {
   "cell_type": "code",
   "execution_count": 4,
   "id": "a38a0a97-c6de-4894-a05d-1da6a28172ad",
   "metadata": {},
   "outputs": [],
   "source": [
    "def extract_element_data(soup, params):\n",
    "    \"\"\"Extracts data from a specified HTML element\"\"\"\n",
    "    \n",
    "    # 1. Find the right tag\n",
    "    if 'itemprop' in params:\n",
    "        elements_found = soup.find_all(params['tag'], {\"itemprop\": params['itemprop']})\n",
    "    elif 'class' in params:\n",
    "        elements_found = soup.find_all(params['tag'], {\"class\": params['class']})\n",
    "    else:\n",
    "        elements_found = soup.find_all(params['tag'])\n",
    "        \n",
    "    # 2. Extract text from these tags\n",
    "    if 'get' in params:\n",
    "        element_texts = [el.get(params['get']) for el in elements_found]\n",
    "    else:\n",
    "        element_texts = [el.get_text() for el in elements_found]\n",
    "        \n",
    "    # 3. Select a particular text or concatenate all of them\n",
    "    tag_order = params.get('order', 0)\n",
    "    if tag_order == -1:\n",
    "        output = '**__**'.join(element_texts)\n",
    "    else:\n",
    "        output = element_texts[tag_order]\n",
    "    \n",
    "    return output"
   ]
  },
  {
   "cell_type": "markdown",
   "id": "d0898b36-6395-4242-865c-975d7a3aaaab",
   "metadata": {},
   "source": [
    "Define parameters. Obtain the name and url of each listing on a page."
   ]
  },
  {
   "cell_type": "code",
   "execution_count": 5,
   "id": "f0808e43-419a-494a-b8f0-4aea24ceafbd",
   "metadata": {},
   "outputs": [],
   "source": [
    "RULES_SEARCH_PAGE = {\n",
    "    'name' : {'tag': 'meta', 'itemprop': 'name', 'get': 'content'},\n",
    "    'url' : {'tag': 'meta', 'itemprop': 'url', 'get':'content'}\n",
    "}"
   ]
  },
  {
   "cell_type": "markdown",
   "id": "dc0850dc-8d61-4dba-8897-3602f203dff8",
   "metadata": {},
   "source": [
    "Function for adding 'https://' at the beginning of every link, because Python apparently doesn't recognize links without it."
   ]
  },
  {
   "cell_type": "code",
   "execution_count": 6,
   "id": "d961f37e-df43-4a73-8bc2-5683057e04db",
   "metadata": {},
   "outputs": [],
   "source": [
    "def add_https(listing_list):\n",
    "    counter = 0\n",
    "    for listing in listing_list:\n",
    "        listing_list[counter]['url'] = \"https://\" + listing_list[counter]['url']\n",
    "        counter += 1\n",
    "    return listing_list"
   ]
  },
  {
   "cell_type": "markdown",
   "id": "265a30a5-7320-480c-bdf5-8b655743bf0f",
   "metadata": {},
   "source": [
    "### Main Program"
   ]
  },
  {
   "cell_type": "markdown",
   "id": "88aa1048-c7cf-4fac-8d0f-7342e224d6e5",
   "metadata": {},
   "source": [
    "The AirBnB search page contains 15 pages. Each page contains 20 listings, including the last page.\n",
    "\n",
    "Enter the url of the **SECOND** search page here:"
   ]
  },
  {
   "cell_type": "code",
   "execution_count": 7,
   "id": "a96a8bb0-6ca1-4872-b594-ad756f95385e",
   "metadata": {},
   "outputs": [],
   "source": [
    "url = \"https://www.airbnb.com/s/Kyoto--Japan/homes?adults=2&place_id=ChIJ8cM8zdaoAWARPR27azYdlsA&refinement_paths%5B%5D=%2Fhomes&tab_id=home_tab&query=Kyoto%2C%20Japan&flexible_trip_lengths%5B%5D=one_week&date_picker_type=flexible_dates&flexible_trip_dates%5B%5D=august&source=structured_search_input_header&search_type=filter_change&federated_search_session_id=6dcf8468-1875-467f-a28f-a14b26a721d9&pagination_search=true&items_offset=20&section_offset=2\""
   ]
  },
  {
   "cell_type": "markdown",
   "id": "9656cf05-e2ca-40f4-afb2-ee30c7ea1c78",
   "metadata": {},
   "source": [
    "First step is to obtain the URLs of all 15 search pages, then the HTML of each page."
   ]
  },
  {
   "cell_type": "code",
   "execution_count": 8,
   "id": "d438869f-cdf1-4755-9594-eca73ac9af91",
   "metadata": {},
   "outputs": [
    {
     "data": {
      "text/plain": [
       "['https://www.airbnb.com/s/Kyoto--Japan/homes?adults=2&place_id=ChIJ8cM8zdaoAWARPR27azYdlsA&refinement_paths%5B%5D=%2Fhomes&tab_id=home_tab&query=Kyoto%2C%20Japan&flexible_trip_lengths%5B%5D=one_week&date_picker_type=flexible_dates&flexible_trip_dates%5B%5D=august&source=structured_search_input_header&search_type=filter_change&federated_search_session_id=6dcf8468-1875-467f-a28f-a14b26a721d9&pagination_search=true&items_offset=0&section_offset=2',\n",
       " 'https://www.airbnb.com/s/Kyoto--Japan/homes?adults=2&place_id=ChIJ8cM8zdaoAWARPR27azYdlsA&refinement_paths%5B%5D=%2Fhomes&tab_id=home_tab&query=Kyoto%2C%20Japan&flexible_trip_lengths%5B%5D=one_week&date_picker_type=flexible_dates&flexible_trip_dates%5B%5D=august&source=structured_search_input_header&search_type=filter_change&federated_search_session_id=6dcf8468-1875-467f-a28f-a14b26a721d9&pagination_search=true&items_offset=20&section_offset=2',\n",
       " 'https://www.airbnb.com/s/Kyoto--Japan/homes?adults=2&place_id=ChIJ8cM8zdaoAWARPR27azYdlsA&refinement_paths%5B%5D=%2Fhomes&tab_id=home_tab&query=Kyoto%2C%20Japan&flexible_trip_lengths%5B%5D=one_week&date_picker_type=flexible_dates&flexible_trip_dates%5B%5D=august&source=structured_search_input_header&search_type=filter_change&federated_search_session_id=6dcf8468-1875-467f-a28f-a14b26a721d9&pagination_search=true&items_offset=40&section_offset=2',\n",
       " 'https://www.airbnb.com/s/Kyoto--Japan/homes?adults=2&place_id=ChIJ8cM8zdaoAWARPR27azYdlsA&refinement_paths%5B%5D=%2Fhomes&tab_id=home_tab&query=Kyoto%2C%20Japan&flexible_trip_lengths%5B%5D=one_week&date_picker_type=flexible_dates&flexible_trip_dates%5B%5D=august&source=structured_search_input_header&search_type=filter_change&federated_search_session_id=6dcf8468-1875-467f-a28f-a14b26a721d9&pagination_search=true&items_offset=60&section_offset=2',\n",
       " 'https://www.airbnb.com/s/Kyoto--Japan/homes?adults=2&place_id=ChIJ8cM8zdaoAWARPR27azYdlsA&refinement_paths%5B%5D=%2Fhomes&tab_id=home_tab&query=Kyoto%2C%20Japan&flexible_trip_lengths%5B%5D=one_week&date_picker_type=flexible_dates&flexible_trip_dates%5B%5D=august&source=structured_search_input_header&search_type=filter_change&federated_search_session_id=6dcf8468-1875-467f-a28f-a14b26a721d9&pagination_search=true&items_offset=80&section_offset=2']"
      ]
     },
     "execution_count": 8,
     "metadata": {},
     "output_type": "execute_result"
    }
   ],
   "source": [
    "page_urls = get_page_urls(url)\n",
    "\n",
    "# Show the first 3. Check if these URLs work.\n",
    "page_urls[:5]"
   ]
  },
  {
   "cell_type": "markdown",
   "id": "3d9b2cd9-f00e-42b8-ac4b-f31d8ec081f2",
   "metadata": {},
   "source": [
    "Now for each search page, obtain 20 listing names and URLs (total 300 listings)"
   ]
  },
  {
   "cell_type": "code",
   "execution_count": 9,
   "id": "e4ef9b9b-abcf-41a0-a275-b4ca4010c4c6",
   "metadata": {},
   "outputs": [],
   "source": [
    "listing_urls = []\n",
    "\n",
    "for page in page_urls:\n",
    "    search_html = scrape_page(page)\n",
    "    listing_html = search_html.find_all(\"div\", attrs={\"itemprop\":\"itemListElement\"})\n",
    "    counter = 0\n",
    "\n",
    "    for listing in listing_html:\n",
    "        features_dict = {}\n",
    "        for feature in RULES_SEARCH_PAGE:\n",
    "            features_dict[feature] = extract_element_data(listing, RULES_SEARCH_PAGE[feature])\n",
    "        listing_urls.append(features_dict)\n",
    "        counter += 1"
   ]
  },
  {
   "cell_type": "code",
   "execution_count": 10,
   "id": "75c46d47-0bff-4bc6-a5eb-534a0fa51891",
   "metadata": {},
   "outputs": [
    {
     "data": {
      "text/plain": [
       "300"
      ]
     },
     "execution_count": 10,
     "metadata": {},
     "output_type": "execute_result"
    }
   ],
   "source": [
    "# If you have 300 listings, the listings have been saved correctly.\n",
    "len(listing_urls)"
   ]
  },
  {
   "cell_type": "markdown",
   "id": "c0ee34f6-c5fa-461d-8464-4a16f8d04bba",
   "metadata": {},
   "source": [
    "Apparently Python cannot recognize these URLs without 'https://'. Add them with the add_https() function."
   ]
  },
  {
   "cell_type": "code",
   "execution_count": 11,
   "id": "15396624-2ed0-4433-bc29-f25a922432a9",
   "metadata": {},
   "outputs": [
    {
     "data": {
      "text/plain": [
       "[{'name': 'Wonderful river view, splendid Kyoto house',\n",
       "  'url': 'www.airbnb.com/rooms/30221877?adults=2&children=0&infants=0&check_in=2022-08-01&check_out=2022-08-08&previous_page_section_name=1000'},\n",
       " {'name': 'Apt. for  family&friends w/Cycle Port&WiF',\n",
       "  'url': 'www.airbnb.com/rooms/41567231?adults=2&children=0&infants=0&check_in=2022-08-09&check_out=2022-08-16&previous_page_section_name=1000'},\n",
       " {'name': 'Super location best host w/Cycle Port & wifi',\n",
       "  'url': 'www.airbnb.com/rooms/6249629?adults=2&children=0&infants=0&check_in=2022-08-01&check_out=2022-08-08&previous_page_section_name=1000'}]"
      ]
     },
     "execution_count": 11,
     "metadata": {},
     "output_type": "execute_result"
    }
   ],
   "source": [
    "#Check the first three listings (should be almost the same as shown on the first search page)\n",
    "listing_urls[:3]"
   ]
  },
  {
   "cell_type": "code",
   "execution_count": 12,
   "id": "999b71c4-468d-4621-8861-8a6289bf2bba",
   "metadata": {},
   "outputs": [
    {
     "data": {
      "text/plain": [
       "[{'name': 'Wonderful river view, splendid Kyoto house',\n",
       "  'url': 'https://www.airbnb.com/rooms/30221877?adults=2&children=0&infants=0&check_in=2022-08-01&check_out=2022-08-08&previous_page_section_name=1000'},\n",
       " {'name': 'Apt. for  family&friends w/Cycle Port&WiF',\n",
       "  'url': 'https://www.airbnb.com/rooms/41567231?adults=2&children=0&infants=0&check_in=2022-08-09&check_out=2022-08-16&previous_page_section_name=1000'},\n",
       " {'name': 'Super location best host w/Cycle Port & wifi',\n",
       "  'url': 'https://www.airbnb.com/rooms/6249629?adults=2&children=0&infants=0&check_in=2022-08-01&check_out=2022-08-08&previous_page_section_name=1000'}]"
      ]
     },
     "execution_count": 12,
     "metadata": {},
     "output_type": "execute_result"
    }
   ],
   "source": [
    "listings = add_https(listing_urls)\n",
    "listings[:3]"
   ]
  },
  {
   "cell_type": "markdown",
   "id": "fde9e366-fcc9-498d-9079-acb89e10649b",
   "metadata": {},
   "source": [
    "AirBnB search page occasionally show duplicates in multiple pages. Let's remove duplicates:"
   ]
  },
  {
   "cell_type": "code",
   "execution_count": 13,
   "id": "2745f83c-d773-45f7-8b00-b7c184127b90",
   "metadata": {},
   "outputs": [],
   "source": [
    "listing_id = []\n",
    "\n",
    "counter = 0\n",
    "for i in listings:\n",
    "    new_url = listings[counter]['url'].split(\"?\")[0]\n",
    "    list_id = (counter, new_url)\n",
    "    listing_id.append(list_id)\n",
    "    counter += 1"
   ]
  },
  {
   "cell_type": "code",
   "execution_count": 14,
   "id": "062952a1-e30a-4757-ab15-365a248a84d1",
   "metadata": {},
   "outputs": [],
   "source": [
    "clean_id = []\n",
    "dupe_id = []\n",
    "seen_id = []\n",
    "\n",
    "counter = 0\n",
    "for i in listing_id:\n",
    "    if listing_id[counter][1] in seen_id:\n",
    "        dupe_id.append(i)\n",
    "    else:\n",
    "        clean_id.append(i)\n",
    "    seen_id.append(listing_id[counter][1])\n",
    "    counter += 1"
   ]
  },
  {
   "cell_type": "code",
   "execution_count": 15,
   "id": "6850f168-5522-4d47-b64a-c995385a354a",
   "metadata": {},
   "outputs": [],
   "source": [
    "clean_listings = []\n",
    "with_numbering = []\n",
    "\n",
    "counter = 0\n",
    "for i in clean_id:\n",
    "    number_id = clean_id[counter][0]\n",
    "    clean_listings.append(listings[number_id])\n",
    "    with_numbering.append((counter, listings[number_id]))\n",
    "    counter += 1"
   ]
  },
  {
   "cell_type": "code",
   "execution_count": 16,
   "id": "90c79ec7-c9ac-407d-815c-cf4fd80cc61b",
   "metadata": {},
   "outputs": [
    {
     "data": {
      "text/plain": [
       "221"
      ]
     },
     "execution_count": 16,
     "metadata": {},
     "output_type": "execute_result"
    }
   ],
   "source": [
    "len(clean_listings)"
   ]
  },
  {
   "cell_type": "markdown",
   "id": "adcf63d0-c7aa-4d07-a0e0-306cf6caafc0",
   "metadata": {},
   "source": [
    "There were 79 duplicates. The list in with_numbering helps me keep track of progress when scraping."
   ]
  },
  {
   "cell_type": "code",
   "execution_count": 17,
   "id": "efc7f87c-68c7-488f-b87e-c468bcea0c1b",
   "metadata": {
    "scrolled": true,
    "tags": []
   },
   "outputs": [
    {
     "data": {
      "text/plain": [
       "[(0,\n",
       "  {'name': 'Wonderful river view, splendid Kyoto house',\n",
       "   'url': 'https://www.airbnb.com/rooms/30221877?adults=2&children=0&infants=0&check_in=2022-08-01&check_out=2022-08-08&previous_page_section_name=1000'}),\n",
       " (1,\n",
       "  {'name': 'Apt. for  family&friends w/Cycle Port&WiF',\n",
       "   'url': 'https://www.airbnb.com/rooms/41567231?adults=2&children=0&infants=0&check_in=2022-08-09&check_out=2022-08-16&previous_page_section_name=1000'}),\n",
       " (2,\n",
       "  {'name': 'Super location best host w/Cycle Port & wifi',\n",
       "   'url': 'https://www.airbnb.com/rooms/6249629?adults=2&children=0&infants=0&check_in=2022-08-01&check_out=2022-08-08&previous_page_section_name=1000'}),\n",
       " (3,\n",
       "  {'name': 'Traditional house with a garden ＆ open-air bath',\n",
       "   'url': 'https://www.airbnb.com/rooms/42572392?adults=2&children=0&infants=0&check_in=2022-08-19&check_out=2022-08-26&previous_page_section_name=1000'}),\n",
       " (4,\n",
       "  {'name': 'KumoMachiya KOTAKO',\n",
       "   'url': 'https://www.airbnb.com/rooms/30075745?adults=2&children=0&infants=0&check_in=2022-08-21&check_out=2022-08-28&previous_page_section_name=1000'}),\n",
       " (5,\n",
       "  {'name': 'The only Kyomachiya in the center of Kyoto City!!!',\n",
       "   'url': 'https://www.airbnb.com/rooms/45872409?adults=2&children=0&infants=0&check_in=2022-08-02&check_out=2022-08-09&previous_page_section_name=1000'}),\n",
       " (6,\n",
       "  {'name': '【C2 KYOTO SUITE】 private open-air bath',\n",
       "   'url': 'https://www.airbnb.com/rooms/39777948?adults=2&children=0&infants=0&check_in=2022-08-11&check_out=2022-08-18&previous_page_section_name=1000'}),\n",
       " (7,\n",
       "  {'name': '✿Kyoto✿/Near Station & Bus/Temple/Twin Room(^^♪✿✿',\n",
       "   'url': 'https://www.airbnb.com/rooms/50290730?adults=2&children=0&infants=0&check_in=2022-08-15&check_out=2022-08-22&previous_page_section_name=1000'}),\n",
       " (8,\n",
       "  {'name': '★Live Like a Local in Stylish Kyoto Home Near Gion',\n",
       "   'url': 'https://www.airbnb.com/rooms/27713598?adults=2&children=0&infants=0&check_in=2022-08-14&check_out=2022-08-21&previous_page_section_name=1000'}),\n",
       " (9,\n",
       "  {'name': 'Stay in Kyoto central island',\n",
       "   'url': 'https://www.airbnb.com/rooms/42780789?adults=2&children=0&infants=0&check_in=2022-08-06&check_out=2022-08-13&previous_page_section_name=1000'}),\n",
       " (10,\n",
       "  {'name': '★Lovely RiverSide House★Near Shopping area★2 Beds',\n",
       "   'url': 'https://www.airbnb.com/rooms/40117962?adults=2&children=0&infants=0&check_in=2022-08-15&check_out=2022-08-22&previous_page_section_name=1000'}),\n",
       " (11,\n",
       "  {'name': 'Fat - Garden House',\n",
       "   'url': 'https://www.airbnb.com/rooms/16580115?adults=2&children=0&infants=0&check_in=2022-08-09&check_out=2022-08-16&previous_page_section_name=1000'}),\n",
       " (12,\n",
       "  {'name': 'KumoMachiya KOFUNE',\n",
       "   'url': 'https://www.airbnb.com/rooms/46866383?adults=2&children=0&infants=0&check_in=2022-08-14&check_out=2022-08-21&previous_page_section_name=1000'}),\n",
       " (13,\n",
       "  {'name': 'Kyotofish·Miya*Former Geisha House Reformed',\n",
       "   'url': 'https://www.airbnb.com/rooms/580087080653234658?adults=2&children=0&infants=0&check_in=2022-08-24&check_out=2022-08-31&previous_page_section_name=1000'}),\n",
       " (14,\n",
       "  {'name': '【home quarantin ok】shibainuatiniya/Kyoto Sta/Toji',\n",
       "   'url': 'https://www.airbnb.com/rooms/34028813?adults=2&children=0&infants=0&check_in=2022-08-20&check_out=2022-08-27&previous_page_section_name=1000'}),\n",
       " (15,\n",
       "  {'name': 'NEW! Luana Higashiyama Guest House 5 min from Gion',\n",
       "   'url': 'https://www.airbnb.com/rooms/24930840?adults=2&children=0&infants=0&check_in=2022-08-16&check_out=2022-08-23&previous_page_section_name=1000'}),\n",
       " (16,\n",
       "  {'name': 'Modern Private Apt/6 min from Sta/in Central Kyoto',\n",
       "   'url': 'https://www.airbnb.com/rooms/14750897?adults=2&children=0&infants=0&check_in=2022-08-28&check_out=2022-09-04&previous_page_section_name=1000'}),\n",
       " (17,\n",
       "  {'name': 'BEST GION LOCATION, LUXURY, QUIET VACATION RENTAL',\n",
       "   'url': 'https://www.airbnb.com/rooms/12824544?adults=2&children=0&infants=0&check_in=2022-08-27&check_out=2022-09-03&previous_page_section_name=1000'}),\n",
       " (18,\n",
       "  {'name': 'Brandnew!Beautiful hotel Center of KYOTO (Room A)',\n",
       "   'url': 'https://www.airbnb.com/rooms/23154718?adults=2&children=0&infants=0&check_in=2022-08-21&check_out=2022-08-28&previous_page_section_name=1000'}),\n",
       " (19,\n",
       "  {'name': 'KumoMachiya Konami',\n",
       "   'url': 'https://www.airbnb.com/rooms/16195377?adults=2&children=0&infants=0&check_in=2022-08-21&check_out=2022-08-28&previous_page_section_name=1000'}),\n",
       " (20,\n",
       "  {'name': 'Expo Cottage 3 with free parking  / ５２㎡  (５６０ft²）',\n",
       "   'url': 'https://www.airbnb.com/rooms/27587737?adults=2&children=0&infants=0&check_in=2022-08-21&check_out=2022-08-28&previous_page_section_name=1000'}),\n",
       " (21,\n",
       "  {'name': '✿Kyoto✿Near station & bus/Temple/Standard twin(^^♪',\n",
       "   'url': 'https://www.airbnb.com/rooms/50292563?adults=2&children=0&infants=0&check_in=2022-08-16&check_out=2022-08-23&previous_page_section_name=1000'}),\n",
       " (22,\n",
       "  {'name': '【Disinfection】KyotoShijoSta.4mins!King Deluxe R301',\n",
       "   'url': 'https://www.airbnb.com/rooms/24633538?adults=2&children=0&infants=0&check_in=2022-08-13&check_out=2022-08-20&previous_page_section_name=1000'}),\n",
       " (23,\n",
       "  {'name': 'Kyoto Sanjo Ohashi Superior Twin Studio No Smoking Superior Twin',\n",
       "   'url': 'https://www.airbnb.com/rooms/45207535?adults=2&children=0&infants=0&check_in=2022-08-14&check_out=2022-08-21&previous_page_section_name=1000'}),\n",
       " (24,\n",
       "  {'name': '【宮之軒】【 home quarantine ok】CBD/2min railway/machiya',\n",
       "   'url': 'https://www.airbnb.com/rooms/37573326?adults=2&children=0&infants=0&check_in=2022-08-15&check_out=2022-08-22&previous_page_section_name=1000'}),\n",
       " (25,\n",
       "  {'name': 'Walk to Kiyomizu Temple 3mins Villa of 3F 3BR',\n",
       "   'url': 'https://www.airbnb.com/rooms/6698384?adults=2&children=0&infants=0&check_in=2022-08-07&check_out=2022-08-14&previous_page_section_name=1000'}),\n",
       " (26,\n",
       "  {'name': 'Kotone Inn・Near Nijo Castle and Gyoen・Good Access',\n",
       "   'url': 'https://www.airbnb.com/rooms/13702928?adults=2&children=0&infants=0&check_in=2022-08-19&check_out=2022-08-26&previous_page_section_name=1000'}),\n",
       " (27,\n",
       "  {'name': \"Artist's ZEN & ART house in East Kyoto\",\n",
       "   'url': 'https://www.airbnb.com/rooms/8244813?adults=2&children=0&infants=0&check_in=2022-08-31&check_out=2022-09-07&previous_page_section_name=1000'}),\n",
       " (28,\n",
       "  {'name': 'Modern Machiya near Kyoto station',\n",
       "   'url': 'https://www.airbnb.com/rooms/6418350?adults=2&children=0&infants=0&check_in=2022-08-01&check_out=2022-08-08&previous_page_section_name=1000'}),\n",
       " (29,\n",
       "  {'name': 'Expo Cottage Fune with Free Bicycles /89㎡ (958ft²)',\n",
       "   'url': 'https://www.airbnb.com/rooms/33264910?adults=2&children=0&infants=0&check_in=2022-08-28&check_out=2022-09-04&previous_page_section_name=1000'}),\n",
       " (30,\n",
       "  {'name': 'Spacious 2-bedroom house with free bicycles',\n",
       "   'url': 'https://www.airbnb.com/rooms/12435391?adults=2&children=0&infants=0&check_in=2022-08-03&check_out=2022-08-10&previous_page_section_name=1000'}),\n",
       " (31,\n",
       "  {'name': 'TabitabiStay 「Kawama」',\n",
       "   'url': 'https://www.airbnb.com/rooms/43072395?adults=2&children=0&infants=0&check_in=2022-08-08&check_out=2022-08-15&previous_page_section_name=1000'}),\n",
       " (32,\n",
       "  {'name': '☆COZY Machiya Right by River★PERFECT for a Couple☆',\n",
       "   'url': 'https://www.airbnb.com/rooms/13518608?adults=2&children=0&infants=0&check_in=2022-08-15&check_out=2022-08-22&previous_page_section_name=1000'}),\n",
       " (33,\n",
       "  {'name': \"It is an entire inn 5 minutes' walk from Kyoto Station, so you can safely stay without contact with other guests.\",\n",
       "   'url': 'https://www.airbnb.com/rooms/45284955?adults=2&children=0&infants=0&check_in=2022-08-20&check_out=2022-08-27&previous_page_section_name=1000'}),\n",
       " (34,\n",
       "  {'name': 'The best location will give you memories of Kyoto!',\n",
       "   'url': 'https://www.airbnb.com/rooms/37645444?adults=2&children=0&infants=0&check_in=2022-08-16&check_out=2022-08-23&previous_page_section_name=1000'}),\n",
       " (35,\n",
       "  {'name': 'Entire 2-bedroom house near Kyoto Station',\n",
       "   'url': 'https://www.airbnb.com/rooms/7229581?adults=2&children=0&infants=0&check_in=2022-08-01&check_out=2022-08-08&previous_page_section_name=1000'}),\n",
       " (36,\n",
       "  {'name': 'Very convenient location! brandnew beautiful RoomB',\n",
       "   'url': 'https://www.airbnb.com/rooms/23277898?adults=2&children=0&infants=0&check_in=2022-08-25&check_out=2022-09-01&previous_page_section_name=1000'}),\n",
       " (37,\n",
       "  {'name': '【Disinfection】KyotoShijoSta.4mins!King Deluxe R302',\n",
       "   'url': 'https://www.airbnb.com/rooms/23986565?adults=2&children=0&infants=0&check_in=2022-08-18&check_out=2022-08-25&previous_page_section_name=1000'}),\n",
       " (38,\n",
       "  {'name': 'Kyostay Iroha Toji Main - Room No.8',\n",
       "   'url': 'https://www.airbnb.com/rooms/23567728?adults=2&children=0&infants=0&check_in=2022-08-24&check_out=2022-08-31&previous_page_section_name=1000'}),\n",
       " (39,\n",
       "  {'name': 'Walk toKyotoStation10mins 2BRMachiya of Zen Garden',\n",
       "   'url': 'https://www.airbnb.com/rooms/15318188?adults=2&children=0&infants=0&check_in=2022-08-01&check_out=2022-08-08&previous_page_section_name=1000'}),\n",
       " (40,\n",
       "  {'name': '\"Yasha\" machiya-style private house/Kyoto station 11min by walk/Kujo station 7min by walk/Suitable for two travelers/Family stay/Close to bus stop!',\n",
       "   'url': 'https://www.airbnb.com/rooms/51553474?adults=2&children=0&infants=0&check_in=2022-08-22&check_out=2022-08-29&previous_page_section_name=1000'}),\n",
       " (41,\n",
       "  {'name': 'A room for rent in Kyomachiya',\n",
       "   'url': 'https://www.airbnb.com/rooms/47111200?adults=2&children=0&infants=0&check_in=2022-08-20&check_out=2022-08-27&previous_page_section_name=1000'}),\n",
       " (42,\n",
       "  {'name': 'Kyostay Iroha Toji Annex - Standard Twin Room A',\n",
       "   'url': 'https://www.airbnb.com/rooms/13517814?adults=2&children=0&infants=0&check_in=2022-08-29&check_out=2022-09-05&previous_page_section_name=1000'}),\n",
       " (43,\n",
       "  {'name': 'Japan Style! 1min to Sta. Convenient traffic♪♪',\n",
       "   'url': 'https://www.airbnb.com/rooms/19895698?adults=2&children=0&infants=0&check_in=2022-08-08&check_out=2022-08-15&previous_page_section_name=1000'}),\n",
       " (44,\n",
       "  {'name': 'Single-family house for rent, 120-year-old old house, tourist center Kyoto station 9 minutes on foot, Aeon Mall 5 minutes on foot, air-conditioned with ventilation',\n",
       "   'url': 'https://www.airbnb.com/rooms/19333140?adults=2&children=0&infants=0&check_in=2022-08-30&check_out=2022-09-06&previous_page_section_name=1000'}),\n",
       " (45,\n",
       "  {'name': 'Near kyoto station Cozy room in traditional house',\n",
       "   'url': 'https://www.airbnb.com/rooms/25369060?adults=2&children=0&infants=0&check_in=2022-08-05&check_out=2022-08-12&previous_page_section_name=1000'}),\n",
       " (46,\n",
       "  {'name': 'Kyoto Nijo Station and Style Homestay [Shoyunju] (with Homestay License)',\n",
       "   'url': 'https://www.airbnb.com/rooms/17288647?adults=2&children=0&infants=0&check_in=2022-08-22&check_out=2022-08-29&previous_page_section_name=1000'}),\n",
       " (47,\n",
       "  {'name': '80㎡ Machiya 2BR with Zen garden near FourSeason',\n",
       "   'url': 'https://www.airbnb.com/rooms/17389334?adults=2&children=0&infants=0&check_in=2022-08-13&check_out=2022-08-20&previous_page_section_name=1000'}),\n",
       " (48,\n",
       "  {'name': '獨棟兩層房\\u3000日式町屋 卯月',\n",
       "   'url': 'https://www.airbnb.com/rooms/7570131?adults=2&children=0&infants=0&check_in=2022-08-01&check_out=2022-08-06&previous_page_section_name=1000'}),\n",
       " (49,\n",
       "  {'name': 'Shiki Homes | KUMEI 空 明',\n",
       "   'url': 'https://www.airbnb.com/rooms/48855828?adults=2&children=0&infants=0&check_in=2022-08-20&check_out=2022-08-27&previous_page_section_name=1000'}),\n",
       " (50,\n",
       "  {'name': 'Japanese and Western-style room with a view of the Kamogawa River (room 201)',\n",
       "   'url': 'https://www.airbnb.com/rooms/46719422?adults=2&children=0&infants=0&check_in=2022-08-25&check_out=2022-09-01&previous_page_section_name=1000'}),\n",
       " (51,\n",
       "  {'name': 'Walk toKyotoStation12mins 2BRMachiya of Zen Garden',\n",
       "   'url': 'https://www.airbnb.com/rooms/15185203?adults=2&children=0&infants=0&check_in=2022-08-25&check_out=2022-09-01&previous_page_section_name=1000'}),\n",
       " (52,\n",
       "  {'name': 'Kyoto cozy house 10min walk to JR Kyoto station',\n",
       "   'url': 'https://www.airbnb.com/rooms/31955130?adults=2&children=0&infants=0&check_in=2022-08-14&check_out=2022-08-21&previous_page_section_name=1000'}),\n",
       " (53,\n",
       "  {'name': 'A single-family house that was renovated during the Meiji period. Gojo Station 8 minutes on foot, Shijo Karasuma area 10 minutes on foot',\n",
       "   'url': 'https://www.airbnb.com/rooms/53041247?adults=2&children=0&infants=0&check_in=2022-08-15&check_out=2022-08-22&previous_page_section_name=1000'}),\n",
       " (54,\n",
       "  {'name': 'KumoMachiya Kosaki',\n",
       "   'url': 'https://www.airbnb.com/rooms/16070919?adults=2&children=0&infants=0&check_in=2022-08-24&check_out=2022-08-31&previous_page_section_name=1000'}),\n",
       " (55,\n",
       "  {'name': 'K1／Big Room & Great View/Nishiki Market 5 minute',\n",
       "   'url': 'https://www.airbnb.com/rooms/32596821?adults=2&children=0&infants=0&check_in=2022-08-02&check_out=2022-08-09&previous_page_section_name=1000'}),\n",
       " (56,\n",
       "  {'name': '(Near Gion)Machiya inside a temple, stay with Zen.',\n",
       "   'url': 'https://www.airbnb.com/rooms/12356675?adults=2&children=0&infants=0&check_in=2022-08-25&check_out=2022-09-01&previous_page_section_name=1000'}),\n",
       " (57,\n",
       "  {'name': 'Kyotofish·Higashiyama*100Yr Machiya*GardenviewBath',\n",
       "   'url': 'https://www.airbnb.com/rooms/25112153?adults=2&children=0&infants=0&check_in=2022-08-20&check_out=2022-08-27&previous_page_section_name=1000'}),\n",
       " (58,\n",
       "  {'name': 'CITY-CENTER, UNIQUE, LUXURY, HISTORICAL TOWNHOUSE',\n",
       "   'url': 'https://www.airbnb.com/rooms/9502914?adults=2&children=0&infants=0&check_in=2022-08-15&check_out=2022-08-22&previous_page_section_name=1000'}),\n",
       " (59,\n",
       "  {'name': \"Machiya near Philosopher's walk  哲学の道まで５分  京町家 弐の庵\",\n",
       "   'url': 'https://www.airbnb.com/rooms/29246177?adults=2&children=0&infants=0&check_in=2022-08-26&check_out=2022-09-02&previous_page_section_name=1000'}),\n",
       " (60,\n",
       "  {'name': \"Kyoto's Traditional Villa - Nozomu House Kyoto\",\n",
       "   'url': 'https://www.airbnb.com/rooms/48017622?adults=2&children=0&infants=0&check_in=2022-08-13&check_out=2022-08-20&previous_page_section_name=1000'}),\n",
       " (61,\n",
       "  {'name': 'Hinoki Garden View Bath Machiya - KYORAN KYOGETSU',\n",
       "   'url': 'https://www.airbnb.com/rooms/22473769?adults=2&children=0&infants=0&check_in=2022-08-24&check_out=2022-08-31&previous_page_section_name=1000'}),\n",
       " (62,\n",
       "  {'name': '｢ 日 ･ 五 条 ｣ Hiyori Gojo * 京 町 家 貸 切 * 五 条 駅 (Gojo Sta.) * 四 条 jo Nishiki Market * 日 式 大 院 院 (Japanese-style) * 地 温',\n",
       "   'url': 'https://www.airbnb.com/rooms/32902156?adults=2&children=0&infants=0&check_in=2022-08-25&check_out=2022-09-01&previous_page_section_name=1000'}),\n",
       " (63,\n",
       "  {'name': 'Kyotofish · Gojo * DT Kamogawa Machiya * 3mins to Subway',\n",
       "   'url': 'https://www.airbnb.com/rooms/38557386?adults=2&children=0&infants=0&check_in=2022-08-01&check_out=2022-08-08&previous_page_section_name=1000'}),\n",
       " (64,\n",
       "  {'name': 'Luxury Machiya House Near Subway -Gojo Miyabi Inn',\n",
       "   'url': 'https://www.airbnb.com/rooms/23048176?adults=2&children=0&infants=0&check_in=2022-08-23&check_out=2022-08-30&previous_page_section_name=1000'}),\n",
       " (65,\n",
       "  {'name': '★Keimachiya Fully Renovated★ Shijo Karasuma Area for Rent in the Meiji Period Walking distance from Shijo Karasuma area 7-minute walk from Gojo★ subway station',\n",
       "   'url': 'https://www.airbnb.com/rooms/50119444?adults=2&children=0&infants=0&check_in=2022-08-29&check_out=2022-09-05&previous_page_section_name=1000'}),\n",
       " (66,\n",
       "  {'name': 'Explore Gion! Rental bikes, Wifi available-1F',\n",
       "   'url': 'https://www.airbnb.com/rooms/36496314?adults=2&children=0&infants=0&check_in=2022-08-12&check_out=2022-08-19&previous_page_section_name=1000'}),\n",
       " (67,\n",
       "  {'name': 'Kyomachiya style villa-Akira',\n",
       "   'url': 'https://www.airbnb.com/rooms/46733300?adults=2&children=0&infants=0&check_in=2022-08-21&check_out=2022-08-28&previous_page_section_name=1000'}),\n",
       " (68,\n",
       "  {'name': 'Vaction rental house・ Stylish spacious living room',\n",
       "   'url': 'https://www.airbnb.com/rooms/21246235?adults=2&children=0&infants=0&check_in=2022-08-23&check_out=2022-08-30&previous_page_section_name=1000'}),\n",
       " (69,\n",
       "  {'name': '【Disinfection】KyotoShijoSta.4mins！King Deluxe R101',\n",
       "   'url': 'https://www.airbnb.com/rooms/24607390?adults=2&children=0&infants=0&check_in=2022-08-04&check_out=2022-08-11&previous_page_section_name=1000'}),\n",
       " (70,\n",
       "  {'name': 'Gion area,Kyoto Cozy&Beautiful traditional house.',\n",
       "   'url': 'https://www.airbnb.com/rooms/53471002?adults=2&children=0&infants=0&check_in=2022-08-09&check_out=2022-08-16&previous_page_section_name=1000'}),\n",
       " (71,\n",
       "  {'name': '【Disinfection】KyotoShijoSta.4mins!King Deluxe R501',\n",
       "   'url': 'https://www.airbnb.com/rooms/24162787?adults=2&children=0&infants=0&check_in=2022-08-12&check_out=2022-08-19&previous_page_section_name=1000'}),\n",
       " (72,\n",
       "  {'name': 'MANGA Design・2 Beds・Free WIFI・Baggage keeper',\n",
       "   'url': 'https://www.airbnb.com/rooms/51135166?adults=2&children=0&infants=0&check_in=2022-08-30&check_out=2022-09-06&previous_page_section_name=1000'}),\n",
       " (73,\n",
       "  {'name': 'Brooklyn style room near Kiyomizu dera temple[BR]2',\n",
       "   'url': 'https://www.airbnb.com/rooms/34519639?adults=2&children=0&infants=0&check_in=2022-08-03&check_out=2022-08-10&previous_page_section_name=1000'}),\n",
       " (74,\n",
       "  {'name': 'Ginkakuji Vacation is just the place for you!',\n",
       "   'url': 'https://www.airbnb.com/rooms/27529660?adults=2&children=0&infants=0&check_in=2022-08-07&check_out=2022-08-14&previous_page_section_name=1000'}),\n",
       " (75,\n",
       "  {'name': '【INN Plus General Castle】Japanese style｜Nijo',\n",
       "   'url': 'https://www.airbnb.com/rooms/50758080?adults=2&children=0&infants=0&check_in=2022-08-01&check_out=2022-08-08&previous_page_section_name=1000'}),\n",
       " (76,\n",
       "  {'name': 'MAX3!7min to Kyoto Sta.Free WiFi&Android TV![STTK]',\n",
       "   'url': 'https://www.airbnb.com/rooms/33893377?adults=2&children=0&infants=0&check_in=2022-08-20&check_out=2022-08-27&previous_page_section_name=1000'}),\n",
       " (77,\n",
       "  {'name': 'About 6 minutes on foot from \"Hiyori Mitake\" Kyoto-machiya private subway Gojo station',\n",
       "   'url': 'https://www.airbnb.com/rooms/46597447?adults=2&children=0&infants=0&check_in=2022-08-28&check_out=2022-09-04&previous_page_section_name=1000'}),\n",
       " (78,\n",
       "  {'name': 'Garden view Suite. One stop from JR Kyoto Station.',\n",
       "   'url': 'https://www.airbnb.com/rooms/28627521?adults=2&children=0&infants=0&check_in=2022-08-30&check_out=2022-09-06&previous_page_section_name=1000'}),\n",
       " (79,\n",
       "  {'name': 'Experience Japan - Compound',\n",
       "   'url': 'https://www.airbnb.com/rooms/21567997?adults=2&children=0&infants=0&check_in=2022-08-02&check_out=2022-08-09&previous_page_section_name=1000'}),\n",
       " (80,\n",
       "  {'name': 'Kyomachiya garden view!・ 1 station from JR Kyoto',\n",
       "   'url': 'https://www.airbnb.com/rooms/28142792?adults=2&children=0&infants=0&check_in=2022-08-27&check_out=2022-09-03&previous_page_section_name=1000'}),\n",
       " (81,\n",
       "  {'name': '[ND] Lovely Gion Studio 3 Mins to Higashiyama St',\n",
       "   'url': 'https://www.airbnb.com/rooms/3565016?adults=2&children=0&infants=0&check_in=2022-08-22&check_out=2022-08-29&previous_page_section_name=1000'}),\n",
       " (82,\n",
       "  {'name': 'Free NETFLIX! Great location near kamo river&train',\n",
       "   'url': 'https://www.airbnb.com/rooms/29327984?adults=2&children=0&infants=0&check_in=2022-08-22&check_out=2022-08-29&previous_page_section_name=1000'}),\n",
       " (83,\n",
       "  {'name': 'Unique Architect Renovated Studio',\n",
       "   'url': 'https://www.airbnb.com/rooms/17818811?adults=2&children=0&infants=0&check_in=2022-08-05&check_out=2022-08-12&previous_page_section_name=1000'}),\n",
       " (84,\n",
       "  {'name': 'Mashiya stay in the heart of traditional district',\n",
       "   'url': 'https://www.airbnb.com/rooms/30075722?adults=2&children=0&infants=0&check_in=2022-08-31&check_out=2022-09-07&previous_page_section_name=1000'}),\n",
       " (85,\n",
       "  {'name': '【Disinfection】KyotoShijoSta.4mins!King Deluxe R201',\n",
       "   'url': 'https://www.airbnb.com/rooms/24615169?adults=2&children=0&infants=0&check_in=2022-08-11&check_out=2022-08-18&previous_page_section_name=1000'}),\n",
       " (86,\n",
       "  {'name': 'Pet-friendly no charge★The focus is on cleanliness',\n",
       "   'url': 'https://www.airbnb.com/rooms/31078236?adults=2&children=0&infants=0&check_in=2022-08-21&check_out=2022-08-28&previous_page_section_name=1000'}),\n",
       " (87,\n",
       "  {'name': 'Kyotofish·Kyobu*Reformed Machiya*Gardenview Bath',\n",
       "   'url': 'https://www.airbnb.com/rooms/18435169?adults=2&children=0&infants=0&check_in=2022-08-15&check_out=2022-08-22&previous_page_section_name=1000'}),\n",
       " (88,\n",
       "  {'name': 'Kyostay Iroha Toji Main - Room No.3',\n",
       "   'url': 'https://www.airbnb.com/rooms/23095286?adults=2&children=0&infants=0&check_in=2022-08-13&check_out=2022-08-20&previous_page_section_name=1000'}),\n",
       " (89,\n",
       "  {'name': 'Kyoto Sanjo Ohashi Standard Twin Studio No Smoking Standard Twin',\n",
       "   'url': 'https://www.airbnb.com/rooms/45207617?adults=2&children=0&infants=0&check_in=2022-08-23&check_out=2022-08-30&previous_page_section_name=1000'}),\n",
       " (90,\n",
       "  {'name': '【STARS】SPACIOUS Townhouse｜5min to sta.｜HeianJing',\n",
       "   'url': 'https://www.airbnb.com/rooms/52999068?adults=2&children=0&infants=0&check_in=2022-08-02&check_out=2022-08-09&previous_page_section_name=1000'}),\n",
       " (91,\n",
       "  {'name': '• Yado 4 MIN WALK:FUSHIMI INARI STA. ENTIRE HOUSE',\n",
       "   'url': 'https://www.airbnb.com/rooms/10420937?adults=2&children=0&infants=0&check_in=2022-08-20&check_out=2022-08-27&previous_page_section_name=1000'}),\n",
       " (92,\n",
       "  {'name': '\"Omoide Memories\", Higashiyama, 1 private guest house, quiet, Kyomachiya',\n",
       "   'url': 'https://www.airbnb.com/rooms/51072922?adults=2&children=0&infants=0&check_in=2022-08-09&check_out=2022-08-16&previous_page_section_name=1000'}),\n",
       " (93,\n",
       "  {'name': 'Kyotofish·Masuya*Reformed Machiya*Gardenview Bath',\n",
       "   'url': 'https://www.airbnb.com/rooms/563322770306057839?adults=2&children=0&infants=0&check_in=2022-08-08&check_out=2022-08-15&previous_page_section_name=1000'}),\n",
       " (94,\n",
       "  {'name': 'Shiki Homes | IKKO 10 一耕の宿10',\n",
       "   'url': 'https://www.airbnb.com/rooms/39427230?adults=2&children=0&infants=0&check_in=2022-08-08&check_out=2022-08-15&previous_page_section_name=1000'}),\n",
       " (95,\n",
       "  {'name': '【U-SHUKU@FUSHIMI INARI】8mins to sta./FREE WIFI',\n",
       "   'url': 'https://www.airbnb.com/rooms/34067386?adults=2&children=0&infants=0&check_in=2022-08-03&check_out=2022-08-10&previous_page_section_name=1000'}),\n",
       " (96,\n",
       "  {'name': 'Room to enjoy the Kyoto.',\n",
       "   'url': 'https://www.airbnb.com/rooms/9263813?adults=2&children=0&infants=0&check_in=2022-08-27&check_out=2022-09-03&previous_page_section_name=1000'}),\n",
       " (97,\n",
       "  {'name': '1st Floor,Bathroom ,heating.Katsuragawa station.',\n",
       "   'url': 'https://www.airbnb.com/rooms/5862761?adults=2&children=0&infants=0&check_in=2022-08-09&check_out=2022-08-16&previous_page_section_name=1000'}),\n",
       " (98,\n",
       "  {'name': 'Kyostay Iroha Toji Main - Room No.2',\n",
       "   'url': 'https://www.airbnb.com/rooms/23134952?adults=2&children=0&infants=0&check_in=2022-08-26&check_out=2022-09-02&previous_page_section_name=1000'}),\n",
       " (99,\n",
       "  {'name': '[] [home quarantine ok] 2F-machiya/max 8p/Nijo Castle',\n",
       "   'url': 'https://www.airbnb.com/rooms/27714365?adults=2&children=0&infants=0&check_in=2022-08-14&check_out=2022-08-21&previous_page_section_name=1000'}),\n",
       " (100,\n",
       "  {'name': 'DISCOUNT！1min to sta.｜NishikiMarket｜WIFI｜Kyoto',\n",
       "   'url': 'https://www.airbnb.com/rooms/24528310?adults=2&children=0&infants=0&check_in=2022-08-05&check_out=2022-08-12&previous_page_section_name=1000'}),\n",
       " (101,\n",
       "  {'name': '☆ 20㎡ ☆ 10min to Arashiyama, Bamboo, Monkey park!',\n",
       "   'url': 'https://www.airbnb.com/rooms/13675222?adults=2&children=0&infants=0&check_in=2022-08-02&check_out=2022-08-09&previous_page_section_name=1000'}),\n",
       " (102,\n",
       "  {'name': 'Saiin Station 8 mins on foot,2toilet 2shower room',\n",
       "   'url': 'https://www.airbnb.com/rooms/23240270?adults=2&children=0&infants=0&check_in=2022-08-11&check_out=2022-08-18&previous_page_section_name=1000'}),\n",
       " (103,\n",
       "  {'name': '【Disinfection】KyotoShijoSta.4mins!King Deluxe R402',\n",
       "   'url': 'https://www.airbnb.com/rooms/23988063?adults=2&children=0&infants=0&check_in=2022-08-31&check_out=2022-09-07&previous_page_section_name=1000'}),\n",
       " (104,\n",
       "  {'name': 'Kyoto Almost Entire 1st Floor Free Bikes w/gardens',\n",
       "   'url': 'https://www.airbnb.com/rooms/8591935?adults=2&children=0&infants=0&check_in=2022-08-01&check_out=2022-08-08&previous_page_section_name=1000'}),\n",
       " (105,\n",
       "  {'name': '【INN+Toji Fushin】15min to Kyoto sta｜Japanese Style',\n",
       "   'url': 'https://www.airbnb.com/rooms/52557868?adults=2&children=0&infants=0&check_in=2022-08-16&check_out=2022-08-23&previous_page_section_name=1000'}),\n",
       " (106,\n",
       "  {'name': '1 room only !!! 32㎡, Deluxe Double (1-2ppl / Non-smoking / Shijo)',\n",
       "   'url': 'https://www.airbnb.com/rooms/43561598?adults=2&children=0&infants=0&check_in=2022-08-31&check_out=2022-09-07&previous_page_section_name=1000'}),\n",
       " (107,\n",
       "  {'name': 'TabitabiStay「聚楽」',\n",
       "   'url': 'https://www.airbnb.com/rooms/44691474?adults=2&children=0&infants=0&check_in=2022-08-21&check_out=2022-08-28&previous_page_section_name=1000'}),\n",
       " (108,\n",
       "  {'name': 'Spacious loft. Accessible to Kyoto stn, Arashiyama',\n",
       "   'url': 'https://www.airbnb.com/rooms/20255296?adults=2&children=0&infants=0&check_in=2022-08-10&check_out=2022-08-17&previous_page_section_name=1000'}),\n",
       " (109,\n",
       "  {'name': 'Miko Town with cobblestones/near Kamo river/modern',\n",
       "   'url': 'https://www.airbnb.com/rooms/25172298?adults=2&children=0&infants=0&check_in=2022-08-20&check_out=2022-08-27&previous_page_section_name=1000'}),\n",
       " (110,\n",
       "  {'name': 'Kyoto luxury house 10min walk to JR Kyoto station',\n",
       "   'url': 'https://www.airbnb.com/rooms/21982941?adults=2&children=0&infants=0&check_in=2022-08-16&check_out=2022-08-23&previous_page_section_name=1000'}),\n",
       " (111,\n",
       "  {'name': 'Viale Jurakumawari 10min walk from Nijo Castle#203',\n",
       "   'url': 'https://www.airbnb.com/rooms/23439418?adults=2&children=0&infants=0&check_in=2022-08-06&check_out=2022-08-13&previous_page_section_name=1000'}),\n",
       " (112,\n",
       "  {'name': 'D7#Modern Japanese style apt/2 min to Sta.',\n",
       "   'url': 'https://www.airbnb.com/rooms/30490008?adults=2&children=0&infants=0&check_in=2022-08-03&check_out=2022-08-10&previous_page_section_name=1000'}),\n",
       " (113,\n",
       "  {'name': 'The best transportation is a 1-minute walk to the Arashiyama bus stop, Arashiyama (hot springs), and you can go anywhere! Free parking!',\n",
       "   'url': 'https://www.airbnb.com/rooms/45866768?adults=2&children=0&infants=0&check_in=2022-08-15&check_out=2022-08-22&previous_page_section_name=1000'}),\n",
       " (114,\n",
       "  {'name': 'Kyotofish·Himawari*100Yr Machiya*%ARABICA Opposite',\n",
       "   'url': 'https://www.airbnb.com/rooms/35581174?adults=2&children=0&infants=0&check_in=2022-08-29&check_out=2022-09-05&previous_page_section_name=1000'}),\n",
       " (115,\n",
       "  {'name': 'Sweet 305 private room☘️',\n",
       "   'url': 'https://www.airbnb.com/rooms/17216479?adults=2&children=0&infants=0&check_in=2022-08-07&check_out=2022-08-14&previous_page_section_name=1000'}),\n",
       " (116,\n",
       "  {'name': 'Traditional Machiya Near World Heritage!',\n",
       "   'url': 'https://www.airbnb.com/rooms/22069201?adults=2&children=0&infants=0&check_in=2022-08-24&check_out=2022-08-31&previous_page_section_name=1000'}),\n",
       " (117,\n",
       "  {'name': '[LGS] Perfect Little Studio Apartment Higashiyama',\n",
       "   'url': 'https://www.airbnb.com/rooms/48288781?adults=2&children=0&infants=0&check_in=2022-08-26&check_out=2022-09-02&previous_page_section_name=1000'}),\n",
       " (118,\n",
       "  {'name': 'Entire house with excellent access 5-minute walk from Kyoto station ~ 5 people [stay Inn Akane Kyoto station]',\n",
       "   'url': 'https://www.airbnb.com/rooms/54184557?adults=2&children=0&infants=0&check_in=2022-08-02&check_out=2022-08-09&previous_page_section_name=1000'}),\n",
       " (119,\n",
       "  {'name': '100 year old Kyoumachiya 【４DK】 ３min Ginkakuji',\n",
       "   'url': 'https://www.airbnb.com/rooms/33695795?adults=2&children=0&infants=0&check_in=2022-08-13&check_out=2022-08-20&previous_page_section_name=1000'}),\n",
       " (120,\n",
       "  {'name': 'Near sanjo sta [2QSD]',\n",
       "   'url': 'https://www.airbnb.com/rooms/46013889?adults=2&children=0&infants=0&check_in=2022-08-25&check_out=2022-09-01&previous_page_section_name=1000'}),\n",
       " (121,\n",
       "  {'name': '[Kyoto Nishijin] 1 room, kitchen with indoor toilet & shower, separate building: Expo Hostel',\n",
       "   'url': 'https://www.airbnb.com/rooms/49148648?adults=2&children=0&infants=0&check_in=2022-08-25&check_out=2022-09-01&previous_page_section_name=1000'}),\n",
       " (122,\n",
       "  {'name': 'B1 Central Kyoto Shijo Kawaramachi Big Sale Early Bird Offer New Opening 3pax Room 30m2 Great Location Gion Takashimaya Nishiki Market Walking Distance',\n",
       "   'url': 'https://www.airbnb.com/rooms/23029043?adults=2&children=0&infants=0&check_in=2022-08-08&check_out=2022-08-15&previous_page_section_name=1000'}),\n",
       " (123,\n",
       "  {'name': '[newopen] I feel Kyoto on my skin. Not only for short trips, but also for longer stays! [Discount] Thank you!',\n",
       "   'url': 'https://www.airbnb.com/rooms/51216753?adults=2&children=0&infants=0&check_in=2022-08-19&check_out=2022-08-26&previous_page_section_name=1000'}),\n",
       " (124,\n",
       "  {'name': '[8 minutes on foot from Kyoto Station] Japanese-style brand new two-story whole house & 7 minutes from Kintetsu Toji Station & currently open for business! High-speed WiFi',\n",
       "   'url': 'https://www.airbnb.com/rooms/42105926?adults=2&children=0&infants=0&check_in=2022-08-27&check_out=2022-09-03&previous_page_section_name=1000'}),\n",
       " (125,\n",
       "  {'name': '2 Welcome Free wifi near Sta and SC and bus stop',\n",
       "   'url': 'https://www.airbnb.com/rooms/14239019?adults=2&children=0&infants=0&check_in=2022-08-02&check_out=2022-08-09&previous_page_section_name=1000'}),\n",
       " (126,\n",
       "  {'name': 'Tanimachi-kun ･ Hoshiya ･ Konojuku/Kyoto Kiyomizu-dera/~ 75★ ㎡ 50% off★',\n",
       "   'url': 'https://www.airbnb.com/rooms/52517638?adults=2&children=0&infants=0&check_in=2022-08-02&check_out=2022-08-09&previous_page_section_name=1000'}),\n",
       " (127,\n",
       "  {'name': 'KumoMachiya Koima',\n",
       "   'url': 'https://www.airbnb.com/rooms/43850703?adults=2&children=0&infants=0&check_in=2022-08-30&check_out=2022-09-06&previous_page_section_name=1000'}),\n",
       " (128,\n",
       "  {'name': 'Kirakuan: Modern Machiya in the heart of Kyoto',\n",
       "   'url': 'https://www.airbnb.com/rooms/1163627?adults=2&children=0&infants=0&check_in=2022-08-19&check_out=2022-08-26&previous_page_section_name=1000'}),\n",
       " (129,\n",
       "  {'name': 'In Ninen-zaka!Traditional house like art gallery!',\n",
       "   'url': 'https://www.airbnb.com/rooms/7098261?adults=2&children=0&infants=0&check_in=2022-08-27&check_out=2022-09-03&previous_page_section_name=1000'}),\n",
       " (130,\n",
       "  {'name': 'Traditional but modern house/ 7min from Kyoto sta.',\n",
       "   'url': 'https://www.airbnb.com/rooms/20856174?adults=2&children=0&infants=0&check_in=2022-08-16&check_out=2022-08-23&previous_page_section_name=1000'}),\n",
       " (131,\n",
       "  {'name': 'MAX5!7min to Kyoto Sta.Free Wi-Fi&Android TV[JFSK]',\n",
       "   'url': 'https://www.airbnb.com/rooms/33353936?adults=2&children=0&infants=0&check_in=2022-08-26&check_out=2022-09-02&previous_page_section_name=1000'}),\n",
       " (132,\n",
       "  {'name': '15mins Kyoto Sta☘- Luxurious Ryokan Style Stay-',\n",
       "   'url': 'https://www.airbnb.com/rooms/21883857?adults=2&children=0&infants=0&check_in=2022-08-05&check_out=2022-08-12&previous_page_section_name=1000'}),\n",
       " (133,\n",
       "  {'name': '[OG] Japanese House in Downtown Kyoto for 4 PPL',\n",
       "   'url': 'https://www.airbnb.com/rooms/9413461?adults=2&children=0&infants=0&check_in=2022-08-31&check_out=2022-09-07&previous_page_section_name=1000'}),\n",
       " (134,\n",
       "  {'name': '*Room402*Kyotofish Boutique Hotel*1min to Kamogawa',\n",
       "   'url': 'https://www.airbnb.com/rooms/39266804?adults=2&children=0&infants=0&check_in=2022-08-24&check_out=2022-08-31&previous_page_section_name=1000'}),\n",
       " (135,\n",
       "  {'name': 'CleanChic Home near Nijo-Castle/Free WiFi',\n",
       "   'url': 'https://www.airbnb.com/rooms/11781600?adults=2&children=0&infants=0&check_in=2022-08-22&check_out=2022-08-29&previous_page_section_name=1000'}),\n",
       " (136,\n",
       "  {'name': 'Cityscape that rewinds the space-time of the heart',\n",
       "   'url': 'https://www.airbnb.com/rooms/25523632?adults=2&children=0&infants=0&check_in=2022-08-22&check_out=2022-08-29&previous_page_section_name=1000'}),\n",
       " (137,\n",
       "  {'name': 'Tofukuji Sakura',\n",
       "   'url': 'https://www.airbnb.com/rooms/572578834795429670?adults=2&children=0&infants=0&check_in=2022-08-18&check_out=2022-08-25&previous_page_section_name=1000'}),\n",
       " (138,\n",
       "  {'name': 'Kyokoi-kiyomizu',\n",
       "   'url': 'https://www.airbnb.com/rooms/11827836?adults=2&children=0&infants=0&check_in=2022-08-03&check_out=2022-08-10&previous_page_section_name=1000'}),\n",
       " (139,\n",
       "  {'name': 'Expo Hostel Nishi Room3 1000yen bike for your stay',\n",
       "   'url': 'https://www.airbnb.com/rooms/8297166?adults=2&children=0&infants=0&check_in=2022-08-29&check_out=2022-09-05&previous_page_section_name=1000'}),\n",
       " (140,\n",
       "  {'name': 'Central Kyoto Amazing Place! 5PPL',\n",
       "   'url': 'https://www.airbnb.com/rooms/9130983?adults=2&children=0&infants=0&check_in=2022-08-14&check_out=2022-08-21&previous_page_section_name=1000'}),\n",
       " (141,\n",
       "  {'name': 'Resort Kyomachiya Gen Bisyamon/Gojo Sta. 4 mins',\n",
       "   'url': 'https://www.airbnb.com/rooms/23771183?adults=2&children=0&infants=0&check_in=2022-08-01&check_out=2022-08-08&previous_page_section_name=1000'}),\n",
       " (142,\n",
       "  {'name': 'Family Suite・NETFLIX & Free Starbucks @KARAWAMACHI',\n",
       "   'url': 'https://www.airbnb.com/rooms/49359591?adults=2&children=0&infants=0&check_in=2022-08-17&check_out=2022-08-24&previous_page_section_name=1000'}),\n",
       " (143,\n",
       "  {'name': 'New construction,Long-term discount, Free Wi-Fi 1F',\n",
       "   'url': 'https://www.airbnb.com/rooms/17016274?adults=2&children=0&infants=0&check_in=2022-08-12&check_out=2022-08-19&previous_page_section_name=1000'}),\n",
       " (144,\n",
       "  {'name': 'TabitabiStay 「Taishi」',\n",
       "   'url': 'https://www.airbnb.com/rooms/33410974?adults=2&children=0&infants=0&check_in=2022-08-31&check_out=2022-09-07&previous_page_section_name=1000'}),\n",
       " (145,\n",
       "  {'name': 'Keimeisha, Marchya Hse, 12 min walk to Kyoto Sta',\n",
       "   'url': 'https://www.airbnb.com/rooms/35079954?adults=2&children=0&infants=0&check_in=2022-08-02&check_out=2022-08-09&previous_page_section_name=1000'}),\n",
       " (146,\n",
       "  {'name': '祇園四条駅1分・窓から八坂神社・鴨川を見下ろす10名宿泊・ホームパーティー・わんこ同伴OKの貸切宿',\n",
       "   'url': 'https://www.airbnb.com/rooms/51905865?adults=2&children=0&infants=0&check_in=2022-08-25&check_out=2022-09-01&previous_page_section_name=1000'}),\n",
       " (147,\n",
       "  {'name': '4 min JR Sta. traditional & modern free NETFLIX',\n",
       "   'url': 'https://www.airbnb.com/rooms/48727749?adults=2&children=0&infants=0&check_in=2022-08-29&check_out=2022-09-05&previous_page_section_name=1000'}),\n",
       " (148,\n",
       "  {'name': 'Kyotofish·Ishibei*DT Gardenview Bath*Gion Center',\n",
       "   'url': 'https://www.airbnb.com/rooms/33754871?adults=2&children=0&infants=0&check_in=2022-08-23&check_out=2022-08-30&previous_page_section_name=1000'}),\n",
       " (149,\n",
       "  {'name': 'UP TO 55%OFF｜1min to sta.｜WIFI｜KYOTO CENTER',\n",
       "   'url': 'https://www.airbnb.com/rooms/24527919?adults=2&children=0&infants=0&check_in=2022-08-02&check_out=2022-08-09&previous_page_section_name=1000'}),\n",
       " (150,\n",
       "  {'name': 'KyotoStaKujoStaArea!FreeWIFI＋Bikes!CharteredHouse!',\n",
       "   'url': 'https://www.airbnb.com/rooms/28285909?adults=2&children=0&infants=0&check_in=2022-08-24&check_out=2022-08-31&previous_page_section_name=1000'}),\n",
       " (151,\n",
       "  {'name': 'KABUKI Fun / Gion & Nishiki W / K / Free internet',\n",
       "   'url': 'https://www.airbnb.com/rooms/26581579?adults=2&children=0&infants=0&check_in=2022-08-29&check_out=2022-09-05&previous_page_section_name=1000'}),\n",
       " (152,\n",
       "  {'name': 'Sweet  303 private room 🌼',\n",
       "   'url': 'https://www.airbnb.com/rooms/21086651?adults=2&children=0&infants=0&check_in=2022-08-16&check_out=2022-08-23&previous_page_section_name=1000'}),\n",
       " (153,\n",
       "  {'name': 'Expo Hostel Ori #4 : Private Room Double bed',\n",
       "   'url': 'https://www.airbnb.com/rooms/8477120?adults=2&children=0&infants=0&check_in=2022-08-16&check_out=2022-08-23&previous_page_section_name=1000'}),\n",
       " (154,\n",
       "  {'name': 'The OneFive Kyoto Shijo(ザ・ワンファイブ・京都四条)',\n",
       "   'url': 'https://www.airbnb.com/hotels/44779721?adults=2&children=0&infants=0&previous_page_section_name=1000'}),\n",
       " (155,\n",
       "  {'name': 'Japanese traditional house excellent location.',\n",
       "   'url': 'https://www.airbnb.com/rooms/10184721?adults=2&children=0&infants=0&check_in=2022-08-30&check_out=2022-09-06&previous_page_section_name=1000'}),\n",
       " (156,\n",
       "  {'name': 'Kyoto Sanjo Ohashi Deluxe Studio No Smoking Deluxe Apartment',\n",
       "   'url': 'https://www.airbnb.com/rooms/45207660?adults=2&children=0&infants=0&check_in=2022-08-24&check_out=2022-08-31&previous_page_section_name=1000'}),\n",
       " (157,\n",
       "  {'name': 'Renovated Machiya Inn「Crimson」near Golden Pavilion',\n",
       "   'url': 'https://www.airbnb.com/rooms/17563380?adults=2&children=0&infants=0&check_in=2022-08-15&check_out=2022-08-22&previous_page_section_name=1000'}),\n",
       " (158,\n",
       "  {'name': 'D6#Spacious Room/Close to Kawaramachi',\n",
       "   'url': 'https://www.airbnb.com/rooms/15200716?adults=2&children=0&infants=0&check_in=2022-08-01&check_out=2022-08-08&previous_page_section_name=1000'}),\n",
       " (159,\n",
       "  {'name': 'MANGA Design・1 Bed・Free WIFI・Baggage Keeper',\n",
       "   'url': 'https://www.airbnb.com/rooms/51134933?adults=2&children=0&infants=0&check_in=2022-08-30&check_out=2022-09-06&previous_page_section_name=1000'}),\n",
       " (160,\n",
       "  {'name': 'KumoMachiya KOTSUKI',\n",
       "   'url': 'https://www.airbnb.com/rooms/15438182?adults=2&children=0&infants=0&check_in=2022-08-10&check_out=2022-08-17&previous_page_section_name=1000'}),\n",
       " (161,\n",
       "  {'name': '★Fully renovated floor-heated★ Kyo-machiya with comfortable open-air bath and garten view from the living room for a healing time',\n",
       "   'url': 'https://www.airbnb.com/rooms/45343156?adults=2&children=0&infants=0&check_in=2022-08-03&check_out=2022-08-10&previous_page_section_name=1000'}),\n",
       " (162,\n",
       "  {'name': 'Magazine-featured Certified 1918 Kyo-Machiya',\n",
       "   'url': 'https://www.airbnb.com/rooms/32414748?adults=2&children=0&infants=0&check_in=2022-08-29&check_out=2022-09-05&previous_page_section_name=1000'}),\n",
       " (163,\n",
       "  {'name': 'Takatsuji roseheights in Saiin Free wi-fi.',\n",
       "   'url': 'https://www.airbnb.com/rooms/38366440?adults=2&children=0&infants=0&check_in=2022-08-30&check_out=2022-09-06&previous_page_section_name=1000'}),\n",
       " (164,\n",
       "  {'name': 'TABITABI KANOE MITSU',\n",
       "   'url': 'https://www.airbnb.com/rooms/564149285830849972?adults=2&children=0&infants=0&check_in=2022-08-28&check_out=2022-09-04&previous_page_section_name=1000'}),\n",
       " (165,\n",
       "  {'name': '· 10 * * * * 2 *',\n",
       "   'url': 'https://www.airbnb.com/rooms/32598860?adults=2&children=0&infants=0&check_in=2022-08-17&check_out=2022-08-24&previous_page_section_name=1000'}),\n",
       " (166,\n",
       "  {'name': \"Ming's House Japanese House 11 min walk Kyoto Sta.\",\n",
       "   'url': 'https://www.airbnb.com/rooms/52467760?adults=2&children=0&infants=0&check_in=2022-08-03&check_out=2022-08-10&previous_page_section_name=1000'}),\n",
       " (167,\n",
       "  {'name': '[SZ]Historic Higashiyama Machiya for 2 Guests',\n",
       "   'url': 'https://www.airbnb.com/rooms/7585177?adults=2&children=0&infants=0&check_in=2022-08-01&check_out=2022-08-08&previous_page_section_name=1000'}),\n",
       " (168,\n",
       "  {'name': 'Kyotofish·Gion*100Yr Geishahouse Reformed*Licensed',\n",
       "   'url': 'https://www.airbnb.com/rooms/22424990?adults=2&children=0&infants=0&check_in=2022-08-21&check_out=2022-08-28&previous_page_section_name=1000'}),\n",
       " (169,\n",
       "  {'name': 'Luxury Japanese tranditional + Great location',\n",
       "   'url': 'https://www.airbnb.com/rooms/15592439?adults=2&children=0&infants=0&check_in=2022-08-27&check_out=2022-09-03&previous_page_section_name=1000'}),\n",
       " (170,\n",
       "  {'name': '[NearGion, Arashiyama]Machiya near Nijo castle',\n",
       "   'url': 'https://www.airbnb.com/rooms/14119709?adults=2&children=0&infants=0&check_in=2022-08-20&check_out=2022-08-27&previous_page_section_name=1000'}),\n",
       " (171,\n",
       "  {'name': \"Enjoy an extraordinary experience in Kyoto's Takasegawa Riverside Machiya Suite Exclusively available until August for entire homes rented out per group per day♪ \\u3000\",\n",
       "   'url': 'https://www.airbnb.com/rooms/44053811?adults=2&children=0&infants=0&check_in=2022-08-01&check_out=2022-08-08&previous_page_section_name=1000'}),\n",
       " (172,\n",
       "  {'name': 'Guesthouse Umeya twinroom with private garden',\n",
       "   'url': 'https://www.airbnb.com/rooms/16597516?adults=2&children=0&infants=0&check_in=2022-08-14&check_out=2022-08-21&previous_page_section_name=1000'}),\n",
       " (173,\n",
       "  {'name': 'You can go sightseeing and shopping next to Kyoto station, and you can sleep in the inn when you leave. Heartfelt service, just to make you feel like you belong!',\n",
       "   'url': 'https://www.airbnb.com/rooms/13847481?adults=2&children=0&infants=0&check_in=2022-08-01&check_out=2022-08-08&previous_page_section_name=1000'}),\n",
       " (174,\n",
       "  {'name': '【Annex Suite102】1min walk from Nishiki Food Market',\n",
       "   'url': 'https://www.airbnb.com/rooms/19645774?adults=2&children=0&infants=0&check_in=2022-08-26&check_out=2022-09-02&previous_page_section_name=1000'}),\n",
       " (175,\n",
       "  {'name': 'traditional&modern 2 bedrm★small car free parking',\n",
       "   'url': 'https://www.airbnb.com/rooms/45211796?adults=2&children=0&infants=0&check_in=2022-08-27&check_out=2022-09-03&previous_page_section_name=1000'}),\n",
       " (176,\n",
       "  {'name': 'TabitabiStay 「Moonlight」',\n",
       "   'url': 'https://www.airbnb.com/rooms/33622503?adults=2&children=0&infants=0&check_in=2022-08-18&check_out=2022-08-25&previous_page_section_name=1000'}),\n",
       " (177,\n",
       "  {'name': 'Hibi Townhouse Modernly equipped Kyo-machiya house for rent, Arashiyama, Kinkakuji bus stop 2 min., bicycles on arrival, 10 min. walk from JR Yenmachi station',\n",
       "   'url': 'https://www.airbnb.com/rooms/22524166?adults=2&children=0&infants=0&check_in=2022-08-08&check_out=2022-08-15&previous_page_section_name=1000'}),\n",
       " (178,\n",
       "  {'name': 'SATO 201 Perfect location! Near Kamo river',\n",
       "   'url': 'https://www.airbnb.com/rooms/17929678?adults=2&children=0&infants=0&check_in=2022-08-15&check_out=2022-08-22&previous_page_section_name=1000'}),\n",
       " (179,\n",
       "  {'name': 'KumoMachiya Kosugi',\n",
       "   'url': 'https://www.airbnb.com/rooms/18296599?adults=2&children=0&infants=0&check_in=2022-08-20&check_out=2022-08-27&previous_page_section_name=1000'}),\n",
       " (180,\n",
       "  {'name': '[JZ] Cozy Japanese Home 10 minutes to Heian sh..',\n",
       "   'url': 'https://www.airbnb.com/rooms/3556766?adults=2&children=0&infants=0&check_in=2022-08-26&check_out=2022-09-02&previous_page_section_name=1000'}),\n",
       " (181,\n",
       "  {'name': '12min.from Kyoto sta.Japanese old style house',\n",
       "   'url': 'https://www.airbnb.com/rooms/19165698?adults=2&children=0&infants=0&check_in=2022-08-19&check_out=2022-08-26&previous_page_section_name=1000'}),\n",
       " (182,\n",
       "  {'name': 'New construction,Long-term discount, Free Wi-Fi\\u3000２F',\n",
       "   'url': 'https://www.airbnb.com/rooms/17003802?adults=2&children=0&infants=0&check_in=2022-08-21&check_out=2022-08-28&previous_page_section_name=1000'}),\n",
       " (183,\n",
       "  {'name': 'GION Room/Gion Walking distance/Free internet',\n",
       "   'url': 'https://www.airbnb.com/rooms/26584601?adults=2&children=0&infants=0&check_in=2022-08-30&check_out=2022-09-06&previous_page_section_name=1000'}),\n",
       " (184,\n",
       "  {'name': 'The Kyo-machiya is full of romance! It can accommodate 9 people in one building, and it is fully equipped for long-term stays! It is a 10-minute walk from Kyoto Station!',\n",
       "   'url': 'https://www.airbnb.com/rooms/28529917?adults=2&children=0&infants=0&check_in=2022-08-30&check_out=2022-09-06&previous_page_section_name=1000'}),\n",
       " (185,\n",
       "  {'name': 'Kyotofish·Komatsu*Gion 100Yr Machiya*Maple Garden',\n",
       "   'url': 'https://www.airbnb.com/rooms/26889434?adults=2&children=0&infants=0&check_in=2022-08-07&check_out=2022-08-14&previous_page_section_name=1000'}),\n",
       " (186,\n",
       "  {'name': '10mins from SHIJO station In the Heart of Kyoto!4A',\n",
       "   'url': 'https://www.airbnb.com/rooms/45347165?adults=2&children=0&infants=0&check_in=2022-08-14&check_out=2022-08-21&previous_page_section_name=1000'}),\n",
       " (187,\n",
       "  {'name': 'Sweet 302 private room',\n",
       "   'url': 'https://www.airbnb.com/rooms/17447851?adults=2&children=0&infants=0&check_in=2022-08-15&check_out=2022-08-22&previous_page_section_name=1000'}),\n",
       " (188,\n",
       "  {'name': '【Kyofuji】Near Nijo Castle★calligraphy experience♪',\n",
       "   'url': 'https://www.airbnb.com/rooms/34960403?adults=2&children=0&infants=0&check_in=2022-08-30&check_out=2022-09-06&previous_page_section_name=1000'}),\n",
       " (189,\n",
       "  {'name': 'Traditional luxury MACHIYA \"Retreat Kamikashiwano\"',\n",
       "   'url': 'https://www.airbnb.com/rooms/33024602?adults=2&children=0&infants=0&check_in=2022-08-08&check_out=2022-08-15&previous_page_section_name=1000'}),\n",
       " (190,\n",
       "  {'name': 'Clean&modern STUDIO 15 min to Kyoto St Twin',\n",
       "   'url': 'https://www.airbnb.com/rooms/17180955?adults=2&children=0&infants=0&check_in=2022-08-13&check_out=2022-08-20&previous_page_section_name=1000'}),\n",
       " (191,\n",
       "  {'name': 'A:Kyoto wood bath MACHIYA. subway 5 min',\n",
       "   'url': 'https://www.airbnb.com/rooms/18378087?adults=2&children=0&infants=0&check_in=2022-08-26&check_out=2022-09-02&previous_page_section_name=1000'}),\n",
       " (192,\n",
       "  {'name': 'Old Traditional House/Experience retro living in a 100-year-old Kyomachiya/Nijo Saiin area',\n",
       "   'url': 'https://www.airbnb.com/rooms/630923744781375817?adults=2&children=0&infants=0&check_in=2022-08-07&check_out=2022-08-14&previous_page_section_name=1000'}),\n",
       " (193,\n",
       "  {'name': '3min to Station  Btype 48m2「Kiyomizu Luxury Stay」',\n",
       "   'url': 'https://www.airbnb.com/rooms/26521450?adults=2&children=0&infants=0&check_in=2022-08-11&check_out=2022-08-18&previous_page_section_name=1000'}),\n",
       " (194,\n",
       "  {'name': '和楽庵【Twin】100 Year old Machiya Guest House  (3 pax)',\n",
       "   'url': 'https://www.airbnb.com/rooms/22867503?adults=2&children=0&infants=0&check_in=2022-08-15&check_out=2022-08-22&previous_page_section_name=1000'}),\n",
       " (195,\n",
       "  {'name': '’’MACHIYA’’ PICK-UP ＆ KEEP LUGGAGE ,WIFI+３ PARKING',\n",
       "   'url': 'https://www.airbnb.com/rooms/23427202?adults=2&children=0&infants=0&check_in=2022-08-22&check_out=2022-08-29&previous_page_section_name=1000'}),\n",
       " (196,\n",
       "  {'name': '【Cochi-en】A luxury Machiya suite for vacation home',\n",
       "   'url': 'https://www.airbnb.com/rooms/37381541?adults=2&children=0&infants=0&check_in=2022-08-19&check_out=2022-08-26&previous_page_section_name=1000'}),\n",
       " (197,\n",
       "  {'name': 'Shiki Homes | KYOKA 鏡 花',\n",
       "   'url': 'https://www.airbnb.com/rooms/35468730?adults=2&children=0&infants=0&check_in=2022-08-28&check_out=2022-09-04&previous_page_section_name=1000'}),\n",
       " (198,\n",
       "  {'name': 'Sweet 202 Private Room\\\\ ️',\n",
       "   'url': 'https://www.airbnb.com/rooms/30217767?adults=2&children=0&infants=0&check_in=2022-08-10&check_out=2022-08-17&previous_page_section_name=1000'}),\n",
       " (199,\n",
       "  {'name': '★New Open/二条城歩行範囲/千本丸太駅徒歩３分/祇園嵐山清水寺京都駅直行バス/20㎡',\n",
       "   'url': 'https://www.airbnb.com/rooms/40766050?adults=2&children=0&infants=0&check_in=2022-08-02&check_out=2022-08-09&previous_page_section_name=1000'}),\n",
       " (200,\n",
       "  {'name': 'Live deep inside Kyoto! CuteCozy StudioFlat W/WiFi',\n",
       "   'url': 'https://www.airbnb.com/rooms/15027997?adults=2&children=0&infants=0&check_in=2022-08-06&check_out=2022-08-13&previous_page_section_name=1000'}),\n",
       " (201,\n",
       "  {'name': 'TABITABI KANOE KAMOGAWA',\n",
       "   'url': 'https://www.airbnb.com/rooms/576254019930866275?adults=2&children=0&infants=0&check_in=2022-08-15&check_out=2022-08-22&previous_page_section_name=1000'}),\n",
       " (202,\n",
       "  {'name': 'No.10 HANA Chic and Modern Japanese Apartment',\n",
       "   'url': 'https://www.airbnb.com/rooms/22660350?adults=2&children=0&infants=0&check_in=2022-08-19&check_out=2022-08-26&previous_page_section_name=1000'}),\n",
       " (203,\n",
       "  {'name': 'Three Premium',\n",
       "   'url': 'https://www.airbnb.com/rooms/30189591?adults=2&children=0&infants=0&check_in=2022-08-17&check_out=2022-08-24&previous_page_section_name=1000'}),\n",
       " (204,\n",
       "  {'name': 'RakutenSTAY KyotoStation【Twin Room with Projector】',\n",
       "   'url': 'https://www.airbnb.com/rooms/48835575?adults=2&children=0&infants=0&check_in=2022-08-09&check_out=2022-08-16&previous_page_section_name=1000'}),\n",
       " (205,\n",
       "  {'name': 'Reiki-An Kyoto Ayano-koji',\n",
       "   'url': 'https://www.airbnb.com/rooms/29603105?adults=2&children=0&infants=0&check_in=2022-08-09&check_out=2022-08-16&previous_page_section_name=1000'}),\n",
       " (206,\n",
       "  {'name': 'Cozy and Quiet Arthouse/ SANZEN-YA KYOTO（さんぜんや京都）',\n",
       "   'url': 'https://www.airbnb.com/rooms/6628536?adults=2&children=0&infants=0&check_in=2022-08-07&check_out=2022-08-14&previous_page_section_name=1000'}),\n",
       " (207,\n",
       "  {'name': 'MAX3!7min to Kyoto Sta.Free WiFi&Android TV![SPTK]',\n",
       "   'url': 'https://www.airbnb.com/rooms/33894059?adults=2&children=0&infants=0&check_in=2022-08-30&check_out=2022-09-06&previous_page_section_name=1000'}),\n",
       " (208,\n",
       "  {'name': 'KumoMachiya Kazahaya',\n",
       "   'url': 'https://www.airbnb.com/rooms/21927596?adults=2&children=0&infants=0&check_in=2022-08-30&check_out=2022-09-06&previous_page_section_name=1000'}),\n",
       " (209,\n",
       "  {'name': 'Shiki Homes | IKKO 8  一耕の宿8',\n",
       "   'url': 'https://www.airbnb.com/rooms/39422214?adults=2&children=0&infants=0&check_in=2022-08-14&check_out=2022-08-21&previous_page_section_name=1000'}),\n",
       " (210,\n",
       "  {'name': 'Kishoan',\n",
       "   'url': 'https://www.airbnb.com/rooms/44325331?adults=2&children=0&infants=0&check_in=2022-08-01&check_out=2022-08-08&previous_page_section_name=1000'}),\n",
       " (211,\n",
       "  {'name': '2 min Higashiyama Sta. traditional modern machiya',\n",
       "   'url': 'https://www.airbnb.com/rooms/52977925?adults=2&children=0&infants=0&check_in=2022-08-04&check_out=2022-08-11&previous_page_section_name=1000'}),\n",
       " (212,\n",
       "  {'name': 'Near from Kawaramachi , Stylish Guest House',\n",
       "   'url': 'https://www.airbnb.com/rooms/14267567?adults=2&children=0&infants=0&check_in=2022-08-03&check_out=2022-08-10&previous_page_section_name=1000'}),\n",
       " (213,\n",
       "  {'name': 'KumoMachiya KOTOKU',\n",
       "   'url': 'https://www.airbnb.com/rooms/35691049?adults=2&children=0&infants=0&check_in=2022-08-23&check_out=2022-08-30&previous_page_section_name=1000'}),\n",
       " (214,\n",
       "  {'name': 'Ryumasaka House: Limited to one group per day, you can stay together in a small inn on the top of Higashiyama Shimizu',\n",
       "   'url': 'https://www.airbnb.com/rooms/50515215?adults=2&children=0&infants=0&check_in=2022-08-17&check_out=2022-08-24&previous_page_section_name=1000'}),\n",
       " (215,\n",
       "  {'name': 'Townhouse near Nijo castle(Freebikes&Pocket WiFi)',\n",
       "   'url': 'https://www.airbnb.com/rooms/8807777?adults=2&children=0&infants=0&check_in=2022-08-30&check_out=2022-09-06&previous_page_section_name=1000'}),\n",
       " (216,\n",
       "  {'name': 'Cozy room in Kyoto!',\n",
       "   'url': 'https://www.airbnb.com/rooms/22313343?adults=2&children=0&infants=0&check_in=2022-08-17&check_out=2022-08-24&previous_page_section_name=1000'}),\n",
       " (217,\n",
       "  {'name': 'Comfortable ★W bed for your dog! Fully equipped kitchen★ Max 3 people/403/Gion Shijo station and Yasaka Shrine are very close!',\n",
       "   'url': 'https://www.airbnb.com/rooms/624879853451362925?adults=2&children=0&infants=0&check_in=2022-08-26&check_out=2022-09-02&previous_page_section_name=1000'}),\n",
       " (218,\n",
       "  {'name': 'Machiya villa with terrace',\n",
       "   'url': 'https://www.airbnb.com/rooms/53798478?adults=2&children=0&infants=0&check_in=2022-08-26&check_out=2022-09-02&previous_page_section_name=1000'}),\n",
       " (219,\n",
       "  {'name': 'Clean&Modern Apt! 15 mins from Kyoto St. 303',\n",
       "   'url': 'https://www.airbnb.com/rooms/17258332?adults=2&children=0&infants=0&check_in=2022-08-02&check_out=2022-08-09&previous_page_section_name=1000'}),\n",
       " (220,\n",
       "  {'name': 'Renovated 80years old machiya - whole house rental',\n",
       "   'url': 'https://www.airbnb.com/rooms/1704589?adults=2&children=0&infants=0&check_in=2022-08-30&check_out=2022-09-06&previous_page_section_name=1000'})]"
      ]
     },
     "execution_count": 17,
     "metadata": {},
     "output_type": "execute_result"
    }
   ],
   "source": [
    "with_numbering"
   ]
  },
  {
   "cell_type": "markdown",
   "id": "840e2e21-89f5-450f-9710-55a810d6df11",
   "metadata": {},
   "source": [
    "# Part 2: Get All Features"
   ]
  },
  {
   "cell_type": "markdown",
   "id": "1c1e2576-7e12-4acf-b72e-3104299822ee",
   "metadata": {},
   "source": [
    "Imports for this part of the functions:"
   ]
  },
  {
   "cell_type": "code",
   "execution_count": 18,
   "id": "df3d8412-1c77-415d-834f-8dee2032da2a",
   "metadata": {},
   "outputs": [],
   "source": [
    "import time \n",
    "from fake_useragent import UserAgent\n",
    "from selenium import webdriver\n",
    "from selenium.webdriver.chrome.options import Options\n",
    "from selenium.webdriver.chrome.service import Service\n",
    "from selenium.webdriver.support.ui import WebDriverWait\n",
    "from selenium.webdriver.common.by import By\n",
    "from selenium.webdriver.support import expected_conditions as EC"
   ]
  },
  {
   "cell_type": "code",
   "execution_count": 19,
   "id": "c1cdefed-3610-473c-bfb1-aac364284aa7",
   "metadata": {},
   "outputs": [],
   "source": [
    "driver_path = \"C:/Users/parkj/Downloads/chromedriver_win32/chromedriver.exe\""
   ]
  },
  {
   "cell_type": "markdown",
   "id": "83cc2255-53b8-440e-9638-9b917a0322f3",
   "metadata": {},
   "source": [
    "### Functions"
   ]
  },
  {
   "cell_type": "markdown",
   "id": "1051b352-ec22-491d-94b1-05ddd9bc10f3",
   "metadata": {},
   "source": [
    "This function is for extracting a listing's HTML. Not sure why scrape_page() doesn't work for the listing pages but this does:"
   ]
  },
  {
   "cell_type": "code",
   "execution_count": 20,
   "id": "3e27a0a3-8104-462b-a9c3-99345299a61b",
   "metadata": {},
   "outputs": [],
   "source": [
    "def extract_listing_html(url):\n",
    "    \n",
    "    opts = Options()\n",
    "    userAgent = \"Mozilla/5.0 (X11; NetBSD) AppleWebKit/537.36 (KHTML, like Gecko) Chrome/27.0.1453.116 Safari/537.36\"\n",
    "    #print(userAgent)\n",
    "    opts.add_argument(f'user-agent={userAgent}')\n",
    "    driver = webdriver.Chrome(service = Service(driver_path), options = opts)\n",
    "    time.sleep(5)\n",
    "    driver.get(url)  \n",
    "    time.sleep(5)\n",
    "    html = driver.page_source\n",
    "    soup = BeautifulSoup(html, \"html.parser\")\n",
    "    \n",
    "    return soup"
   ]
  },
  {
   "cell_type": "markdown",
   "id": "42beb9d0-a169-46b7-bafb-93dff879acc1",
   "metadata": {},
   "source": [
    "This function grabs the features of the listing and returns them as a string."
   ]
  },
  {
   "cell_type": "code",
   "execution_count": 21,
   "id": "40a63484-5c15-4fc7-a280-ed1650dd6429",
   "metadata": {},
   "outputs": [],
   "source": [
    "def extract_feature(soup, tag, class_):\n",
    "    \n",
    "    # If there is no object to extract, return 'None'\n",
    "    if soup.find(tag, class_= class_) is None:\n",
    "        strings = 'None'\n",
    "        \n",
    "    # HTML is written differently for rooms. If we are looking for number of rooms, do this:\n",
    "    elif tag == 'li' and class_ == 'len26si dir dir-ltr':\n",
    "        guests_rooms = soup.find_all('li', attrs={\"class\":\"len26si dir dir-ltr\"})\n",
    "        n_rooms = guests_rooms[0:-1]\n",
    "        if len(n_rooms) > 3 :\n",
    "            str_rooms = str(n_rooms[0])+str(n_rooms[1])+str(n_rooms[2])+str(n_rooms[3])\n",
    "            room_soup = BeautifulSoup(str_rooms, 'html5lib')\n",
    "            strings = room_soup.text.strip()\n",
    "        elif len(n_rooms) == 3:\n",
    "            str_rooms = str(n_rooms[0])+str(n_rooms[1])+str(n_rooms[2])\n",
    "            room_soup = BeautifulSoup(str_rooms, 'html5lib')\n",
    "            strings = room_soup.text.strip()\n",
    "        elif len(n_rooms) == 2:\n",
    "            str_rooms = str(n_rooms[0])+str(n_rooms[1])\n",
    "            room_soup = BeautifulSoup(str_rooms, 'html5lib')\n",
    "            strings = room_soup.text.strip()\n",
    "        elif len(n_rooms) == 1:\n",
    "            str_rooms = str(n_rooms[0])\n",
    "            room_soup = BeautifulSoup(str_rooms, 'html5lib')\n",
    "            strings = room_soup.text.strip()\n",
    "        else: \n",
    "            strings = \"None\"\n",
    "        \n",
    "    # If there is a text object, return that text\n",
    "    else: strings = soup.find(tag, class_= class_).getText()\n",
    "    \n",
    "    return strings"
   ]
  },
  {
   "cell_type": "markdown",
   "id": "672e7974-b89d-4a62-a68e-fb43e2df6296",
   "metadata": {},
   "source": [
    "The details for pricing can only be accessed after clicking on the \"Reserve\" button. This function does clicks on the button and returns the new webpage HTML."
   ]
  },
  {
   "cell_type": "code",
   "execution_count": 22,
   "id": "2895814e-cd97-4e8a-8331-1c7cd8edaa9e",
   "metadata": {},
   "outputs": [],
   "source": [
    "def get_price_soup(url):\n",
    "    opts = Options()\n",
    "    userAgent = \"Mozilla/5.0 (X11; NetBSD) AppleWebKit/537.36 (KHTML, like Gecko) Chrome/27.0.1453.116 Safari/537.36\"\n",
    "    #print(userAgent)\n",
    "    opts.add_argument(f'user-agent={userAgent}')\n",
    "    driver = webdriver.Chrome(service = Service(driver_path), options = opts)\n",
    "    driver.get(url)   #and here is the change, just https\n",
    "    time.sleep(5)\n",
    "    reserve = WebDriverWait(driver, 5).until(\n",
    "        EC.visibility_of_element_located((By.CLASS_NAME, \"_qqb2vcb\"))).click()\n",
    "    new_url = driver.current_url\n",
    "    soup = extract_listing_html(new_url)\n",
    "    return soup"
   ]
  },
  {
   "cell_type": "markdown",
   "id": "37a5c1b5-8eed-4315-9669-3cb79bbc2d5e",
   "metadata": {},
   "source": [
    "These are the parameters for each feature:"
   ]
  },
  {
   "cell_type": "code",
   "execution_count": 28,
   "id": "ad53ebd4-3b71-4d9f-a511-c9c165c74bd1",
   "metadata": {},
   "outputs": [],
   "source": [
    "# Set parameters for each feature:\n",
    "\n",
    "FEATURES_PARAMS = {\n",
    "    \"name\" : {\"tag\" : \"h1\", \"class\": \"_fecoyn4\"},\n",
    "    \"header\" : {\"tag\" : \"div\", \"class\" : \"_cv5qq4\"},\n",
    "    \"superhost\" : {\"tag\" : \"span\", \"class\" : \"_1mhorg9\"},\n",
    "    \"guests_rooms\" : {\"tag\" : \"li\", \"class\" : \"len26si dir dir-ltr\"},\n",
    "    \"rating\" : {\"tag\" : \"span\", \"class\" : \"_17p6nbba\"},\n",
    "    \"reviews\" : {\"tag\" : \"button\", \"class\" : \"_11eqlma4\"},\n",
    "    \"location\" : {\"tag\" : \"span\", \"class\" : \"_9xiloll\"},\n",
    "    \"rarity\" : {\"tag\" : \"h2\", \"class\" : \"_mtn6h9x\"},\n",
    "    \"rarity_desc\" : {\"tag\" : \"span\", \"class\" : \"_1hgrncy\"},\n",
    "    \"house_rules\" : {\"tag\" : \"div\", \"class\" : \"c1lue5su dir dir-ltr\"},\n",
    "    \"health_safety\" : {\"tag\" : \"div\", \"class\" : \"c3bnsmm dir dir-ltr\"},\n",
    "    \"cancellation\" : {\"tag\" : \"div\", \"class\" : \"t1dlbb60 dir dir-ltr\"},\n",
    "    \"host_response\" : {\"tag\" : \"ul\", \"class\" : \"fhhmddr dir dir-ltr\"}\n",
    "}\n",
    "\n",
    "# These parameters require Selenium to click on a button and access a new page\n",
    "\n",
    "CLICK_PARAMS = {\n",
    "    \"per night\" : {\"tag\" : \"div\", \"class\" : \"_12hv04d\"},\n",
    "    \"total price\" : {\"tag\" : \"div\", \"class\" : \"_j1143kl\"},\n",
    "}"
   ]
  },
  {
   "cell_type": "markdown",
   "id": "ef812c82-d92c-46f0-b2cd-47bf5de4a8c9",
   "metadata": {},
   "source": [
    "Putting all the previous functions together in this function, it will return a list of the features for each listing.\n",
    "\n",
    "Comment out `print(counter)` if you do not want to print a number for every time a listing's features were successfully extracted."
   ]
  },
  {
   "cell_type": "code",
   "execution_count": 29,
   "id": "68cee196-7246-452c-99a6-5a575379c8f0",
   "metadata": {},
   "outputs": [],
   "source": [
    "def get_features(listing_list):\n",
    "    features_list = []\n",
    "    counter = 0\n",
    "\n",
    "    for listing in listing_list:\n",
    "        url = listing_list[counter]['url']\n",
    "        soup = extract_listing_html(url)\n",
    "        features_dict = {}\n",
    "        for feature in FEATURES_PARAMS:\n",
    "            features_dict[feature] = extract_feature(soup, FEATURES_PARAMS[feature]['tag'], FEATURES_PARAMS[feature]['class'])\n",
    "        features_list.append(features_dict)\n",
    "        counter += 1\n",
    "        #print(counter)\n",
    "    \n",
    "    return features_list"
   ]
  },
  {
   "cell_type": "markdown",
   "id": "6b49156d-9f3e-40b5-aac9-67da95406d12",
   "metadata": {},
   "source": [
    "Similar to the last function, but specifically used for getting the prices. It might be a little slow to run."
   ]
  },
  {
   "cell_type": "code",
   "execution_count": 25,
   "id": "3ec53e98-15ac-487e-9b13-3bb4f302279b",
   "metadata": {},
   "outputs": [],
   "source": [
    "def get_price_feats(listing_list, features_list):\n",
    "    \n",
    "    counter = 0\n",
    "    \n",
    "    for listing in listing_list:\n",
    "        listing_url = listing_list[counter]['url']\n",
    "        price_soup = get_price_soup(listing_url)\n",
    "        features_dict = {}\n",
    "        for feature in CLICK_PARAMS:\n",
    "            features_list[counter][feature] = extract_feature(price_soup, CLICK_PARAMS[feature]['tag'], CLICK_PARAMS[feature]['class'])\n",
    "        counter += 1\n",
    "    \n",
    "    return features_list"
   ]
  },
  {
   "cell_type": "markdown",
   "id": "39b44aef-1412-4cc7-a6a6-d071e23e4084",
   "metadata": {},
   "source": [
    "### Main Program"
   ]
  },
  {
   "cell_type": "markdown",
   "id": "a0acaa0e-c4be-4de7-a23f-eaa25730fc3c",
   "metadata": {},
   "source": [
    "Get the features without the prices first. This may take a long time, so the list will be ran in multiple parts just in case there is an error:"
   ]
  },
  {
   "cell_type": "code",
   "execution_count": 26,
   "id": "ee9ab9a6-c932-4c62-b81a-e3f6d15c8fcf",
   "metadata": {},
   "outputs": [],
   "source": [
    "# Testing the waters\n",
    "features_list1 = get_features(clean_listings[0:10])"
   ]
  },
  {
   "cell_type": "code",
   "execution_count": 30,
   "id": "8e85e95c-c394-43be-bdcf-5c2e5259b4a2",
   "metadata": {
    "scrolled": true,
    "tags": []
   },
   "outputs": [],
   "source": [
    "features_no_price = get_features(clean_listings)"
   ]
  },
  {
   "cell_type": "markdown",
   "id": "fadb7ce1-1886-42f0-842f-5eb8ba8707ce",
   "metadata": {},
   "source": [
    "Just in case I mess up after this:"
   ]
  },
  {
   "cell_type": "code",
   "execution_count": 32,
   "id": "f662ec70-47a0-4cad-9b14-2ba9ee95b623",
   "metadata": {},
   "outputs": [],
   "source": [
    "features_no_price_extra = features_no_price"
   ]
  },
  {
   "cell_type": "markdown",
   "id": "76607394-c5d9-41a6-bbf3-171fc5c8754b",
   "metadata": {},
   "source": [
    "### Adding Prices"
   ]
  },
  {
   "cell_type": "code",
   "execution_count": 33,
   "id": "a7e7ac07-6fe7-4856-bcdb-3482a8a2fbc6",
   "metadata": {},
   "outputs": [],
   "source": [
    "# Testing the waters\n",
    "features_test = get_price_feats(clean_listings[:5], features_no_price_extra[:5])"
   ]
  },
  {
   "cell_type": "code",
   "execution_count": 36,
   "id": "95997957-a8c2-4abe-9993-7ffd8dccff5e",
   "metadata": {},
   "outputs": [],
   "source": [
    "full_features = get_price_feats(clean_listings, features_no_price_extra)"
   ]
  },
  {
   "cell_type": "markdown",
   "id": "a34a2992-5484-41cb-9453-50705fc6a6dc",
   "metadata": {},
   "source": [
    "Only one listing was missing info on prices. It was the only listing that required us to select a room type, like booking a hotel:"
   ]
  },
  {
   "cell_type": "code",
   "execution_count": 39,
   "id": "b5db80b7-274f-411d-b65a-8e3e3f330504",
   "metadata": {},
   "outputs": [
    {
     "name": "stdout",
     "output_type": "stream",
     "text": [
      "{'name': 'The OneFive Kyoto Shijo', 'header': 'This is a hotel', 'superhost': 'Superhost', 'guests_rooms': 'None', 'rating': '4.79 ·', 'reviews': '138 reviews', 'location': 'Kyoto, Japan', 'rarity': 'None', 'rarity_desc': 'None', 'house_rules': 'Check-in: 3:00 PM - 12:00 AMCheckout: 10:00 AMPhoto ID and credit card required at check-inShow all', 'health_safety': 'None', 'cancellation': 'None', 'host_response': 'Policy number: Hotels and Inns Business Act | 京都市長\\u3000門川\\u3000大作\\u3000 | 京都市指令保医セ第\\u3000175\\u3000号', 'per night': 'None', 'total price': 'None'}\n"
     ]
    }
   ],
   "source": [
    "for i in full_features:\n",
    "    if i['total price'] == 'None':\n",
    "        print(i)"
   ]
  },
  {
   "cell_type": "code",
   "execution_count": 41,
   "id": "92687b06-d7f5-4701-b4dc-de4d460a3f2c",
   "metadata": {},
   "outputs": [
    {
     "data": {
      "text/plain": [
       "{'name': 'The OneFive Kyoto Shijo',\n",
       " 'header': 'This is a hotel',\n",
       " 'superhost': 'Superhost',\n",
       " 'guests_rooms': 'None',\n",
       " 'rating': '4.79 ·',\n",
       " 'reviews': '138 reviews',\n",
       " 'location': 'Kyoto, Japan',\n",
       " 'rarity': 'None',\n",
       " 'rarity_desc': 'None',\n",
       " 'house_rules': 'Check-in: 3:00 PM - 12:00 AMCheckout: 10:00 AMPhoto ID and credit card required at check-inShow all',\n",
       " 'health_safety': 'None',\n",
       " 'cancellation': 'None',\n",
       " 'host_response': 'Policy number: Hotels and Inns Business Act | 京都市長\\u3000門川\\u3000大作\\u3000 | 京都市指令保医セ第\\u3000175\\u3000号',\n",
       " 'per night': 'None',\n",
       " 'total price': 'None'}"
      ]
     },
     "execution_count": 41,
     "metadata": {},
     "output_type": "execute_result"
    }
   ],
   "source": [
    "full_features[154] #Obtained from looking at with_numbering"
   ]
  },
  {
   "cell_type": "code",
   "execution_count": 42,
   "id": "fbb2ea0e-1b9f-486e-920c-297735f401df",
   "metadata": {},
   "outputs": [],
   "source": [
    "url = \"https://www.airbnb.com/book/stays/44779722?numberOfAdults=2&checkin=2022-08-14&numberOfGuests=1&checkout=2022-08-20&guestCurrency=USD&productId=44779722&isWorkTrip=false&numberOfChildren=0&numberOfInfants=0&numberOfPets=0\"\n",
    "driver = webdriver.Chrome(service = Service(driver_path))\n",
    "driver.get(url)\n",
    "price_soup = extract_listing_html(url)\n",
    "for feature in CLICK_PARAMS:\n",
    "        full_features[154][feature] = extract_feature(price_soup, CLICK_PARAMS[feature]['tag'], CLICK_PARAMS[feature]['class'])"
   ]
  },
  {
   "cell_type": "code",
   "execution_count": 48,
   "id": "290f014b-bbc0-41b2-86eb-d7ba030836bc",
   "metadata": {},
   "outputs": [
    {
     "data": {
      "text/plain": [
       "{'name': 'The OneFive Kyoto Shijo',\n",
       " 'header': 'This is a hotel',\n",
       " 'superhost': 'Superhost',\n",
       " 'guests_rooms': 'None',\n",
       " 'rating': '4.79 ·',\n",
       " 'reviews': '138 reviews',\n",
       " 'location': 'Kyoto, Japan',\n",
       " 'rarity': 'None',\n",
       " 'rarity_desc': 'None',\n",
       " 'house_rules': 'Check-in: 3:00 PM - 12:00 AMCheckout: 10:00 AMPhoto ID and credit card required at check-inShow all',\n",
       " 'health_safety': 'None',\n",
       " 'cancellation': 'None',\n",
       " 'host_response': 'Policy number: Hotels and Inns Business Act | 京都市長\\u3000門川\\u3000大作\\u3000 | 京都市指令保医セ第\\u3000175\\u3000号',\n",
       " 'per night': '$71.58 x 6 nights',\n",
       " 'total price': '$429.50'}"
      ]
     },
     "execution_count": 48,
     "metadata": {},
     "output_type": "execute_result"
    }
   ],
   "source": [
    "full_features[154]"
   ]
  },
  {
   "cell_type": "code",
   "execution_count": 44,
   "id": "e0124a82-69ca-44b4-bbd6-fefe773f8148",
   "metadata": {},
   "outputs": [
    {
     "data": {
      "text/plain": [
       "221"
      ]
     },
     "execution_count": 44,
     "metadata": {},
     "output_type": "execute_result"
    }
   ],
   "source": [
    "len(full_features)"
   ]
  },
  {
   "cell_type": "markdown",
   "id": "5930394c-371f-4563-91f0-1a604c8fbeb3",
   "metadata": {},
   "source": [
    "# Part 3: Cleaning the Data"
   ]
  },
  {
   "cell_type": "markdown",
   "id": "7cb18529-86c9-4213-b59a-6eb0c59c1c35",
   "metadata": {},
   "source": [
    "Just in case I mess up after this:"
   ]
  },
  {
   "cell_type": "code",
   "execution_count": 77,
   "id": "f7d3d013-4d04-411b-8a8f-f429b461b5fb",
   "metadata": {},
   "outputs": [],
   "source": [
    "all_features = full_features"
   ]
  },
  {
   "cell_type": "markdown",
   "id": "e2ee8822-7e2c-4f51-b6b9-f8ea629d565b",
   "metadata": {},
   "source": [
    "### Add listing URLs"
   ]
  },
  {
   "cell_type": "code",
   "execution_count": 78,
   "id": "02148501-e54d-4d40-b77a-97787d2ef28a",
   "metadata": {},
   "outputs": [],
   "source": [
    "counter = 0\n",
    "for i in all_features:\n",
    "    all_features[counter]['url'] = clean_listings[counter]['url']\n",
    "    counter += 1"
   ]
  },
  {
   "cell_type": "code",
   "execution_count": 86,
   "id": "9468934e-59df-4745-b2ee-e54e2d89e78e",
   "metadata": {},
   "outputs": [
    {
     "data": {
      "text/plain": [
       "{'name': 'DISCOUNT！1min to sta.｜NishikiMarket｜WIFI｜Kyoto',\n",
       " 'header': 'Entire rental unit',\n",
       " 'superhost': 'None',\n",
       " 'guests_rooms': '2 guests · 1 bedroom · 2 beds · 1 bath',\n",
       " 'rating': '4.79 ·',\n",
       " 'reviews': '90 reviews',\n",
       " 'location': '京都市中京区梅忠町, 京都府, Japan',\n",
       " 'rarity': 'None',\n",
       " 'rarity_desc': 'None',\n",
       " 'house_rules': 'House rulesCheck-in: After 3:00 PMCheckout: 10:00 AMNo smokingNo petsNo parties or eventsShow more',\n",
       " 'health_safety': \"Health & safety\\U000f9001Airbnb's COVID-19 safety practices applyCarbon monoxide alarmSmoke alarm\\U000f0402Security Deposit - if you damage the home, you may be charged up to $236Show more\",\n",
       " 'cancellation': 'Free cancellation before Jul 31.',\n",
       " 'host_response': 'Policy number: Hotels and Inns Business Act | 京都市 | 京都市指令保医セ第46号Response rate: 100%Response time: within an hour',\n",
       " 'per night': '$88.18 x 7 nights',\n",
       " 'total price': '$308.61',\n",
       " 'url': 'https://www.airbnb.com/rooms/24528310?adults=2&children=0&infants=0&check_in=2022-08-05&check_out=2022-08-12&previous_page_section_name=1000',\n",
       " 'host': 'Be-My-Guest'}"
      ]
     },
     "execution_count": 86,
     "metadata": {},
     "output_type": "execute_result"
    }
   ],
   "source": [
    "all_features[100]"
   ]
  },
  {
   "cell_type": "markdown",
   "id": "79e85ef5-76cf-4f86-b989-fcc15227e466",
   "metadata": {},
   "source": [
    "### Clean 'header' and add a column for hosts"
   ]
  },
  {
   "cell_type": "raw",
   "id": "289a1b09-dea6-4e6e-a534-d03e20933ed7",
   "metadata": {},
   "source": [
    "for i in range(len(all_features)):\n",
    "    header = all_features[i]['header'].split(\"hosted by\")\n",
    "    all_features[i]['header'] = header[0][0:-1]\n",
    "    all_features[i]['host'] = header[1][1:]"
   ]
  },
  {
   "cell_type": "markdown",
   "id": "040c85c5-1db5-4cf3-8981-f3baccb4de5d",
   "metadata": {},
   "source": [
    "The first listing has the header cut off by a letter because I used it earlier to test out the code."
   ]
  },
  {
   "cell_type": "code",
   "execution_count": 88,
   "id": "4720faa9-11a4-4ef8-8e47-8ddb0240c173",
   "metadata": {},
   "outputs": [],
   "source": [
    "all_features[0]['header'] = \"Entire Home\""
   ]
  },
  {
   "cell_type": "markdown",
   "id": "245c6f23-b8ce-40f3-ab94-6f4ba0a30c60",
   "metadata": {},
   "source": [
    "And not sure why this affects `full_features`. \n",
    "\n",
    "So be careful doing this part, only run ONCE or else it will continue to split the header and cut the end off. You will end up having to fix each listing's header or re-extract everything."
   ]
  },
  {
   "cell_type": "markdown",
   "id": "28f4e808-15a6-44bf-a442-cde060785609",
   "metadata": {},
   "source": [
    "# Part 4: Exporting the Data"
   ]
  },
  {
   "cell_type": "code",
   "execution_count": 91,
   "id": "3ea014e3-e594-44a8-ad18-50e250af1731",
   "metadata": {},
   "outputs": [],
   "source": [
    "import csv\n",
    "\n",
    "to_csv = all_features\n",
    "\n",
    "keys = to_csv[0].keys()\n",
    "\n",
    "with open('kyotolistings.csv', 'w', newline='', encoding=\"utf-8\") as output_file:\n",
    "    dict_writer = csv.DictWriter(output_file, keys)\n",
    "    dict_writer.writeheader()\n",
    "    dict_writer.writerows(to_csv)"
   ]
  }
 ],
 "metadata": {
  "kernelspec": {
   "display_name": "Python 3 (ipykernel)",
   "language": "python",
   "name": "python3"
  },
  "language_info": {
   "codemirror_mode": {
    "name": "ipython",
    "version": 3
   },
   "file_extension": ".py",
   "mimetype": "text/x-python",
   "name": "python",
   "nbconvert_exporter": "python",
   "pygments_lexer": "ipython3",
   "version": "3.9.12"
  }
 },
 "nbformat": 4,
 "nbformat_minor": 5
}
